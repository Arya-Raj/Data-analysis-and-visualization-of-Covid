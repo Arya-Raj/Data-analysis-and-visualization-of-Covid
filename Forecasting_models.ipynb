{
  "nbformat": 4,
  "nbformat_minor": 0,
  "metadata": {
    "colab": {
      "name": "Forecasting models.ipynb",
      "provenance": [],
      "collapsed_sections": [
        "l72MFqmOO-Xz",
        "5SY1YjhxOOur",
        "Rj_2jSmdQ2vs",
        "IrQwxuIMBRYQ",
        "ox7dhjjQa22v",
        "LqABsVhuCUqS"
      ],
      "toc_visible": true,
      "include_colab_link": true
    },
    "kernelspec": {
      "display_name": "Python 3",
      "name": "python3"
    }
  },
  "cells": [
    {
      "cell_type": "markdown",
      "metadata": {
        "id": "view-in-github",
        "colab_type": "text"
      },
      "source": [
        "<a href=\"https://colab.research.google.com/github/Arya-Raj/Data-analysis-and-visualization-of-Covid/blob/main/Forecasting_models.ipynb\" target=\"_parent\"><img src=\"https://colab.research.google.com/assets/colab-badge.svg\" alt=\"Open In Colab\"/></a>"
      ]
    },
    {
      "cell_type": "code",
      "metadata": {
        "id": "2uJ3vjxvQU1H"
      },
      "source": [
        "import pandas as pd "
      ],
      "execution_count": null,
      "outputs": []
    },
    {
      "cell_type": "code",
      "metadata": {
        "id": "_00KeOUrQd8z"
      },
      "source": [
        "df1=pd.DataFrame(pd.read_csv(r'/content/8th jan 2021.csv'))"
      ],
      "execution_count": null,
      "outputs": []
    },
    {
      "cell_type": "code",
      "metadata": {
        "colab": {
          "base_uri": "https://localhost:8080/",
          "height": 637
        },
        "id": "Guy7eXWFhHMT",
        "outputId": "d4b0a8d5-00cc-4c0e-8a7f-583f8b0b75b6"
      },
      "source": [
        "df1.info()\n",
        "df1"
      ],
      "execution_count": null,
      "outputs": [
        {
          "output_type": "stream",
          "text": [
            "<class 'pandas.core.frame.DataFrame'>\n",
            "RangeIndex: 10670 entries, 0 to 10669\n",
            "Data columns (total 7 columns):\n",
            " #   Column        Non-Null Count  Dtype  \n",
            "---  ------        --------------  -----  \n",
            " 0   Date          10670 non-null  object \n",
            " 1   State         10670 non-null  object \n",
            " 2   Confirmed     10670 non-null  int64  \n",
            " 3   Recovered     10670 non-null  int64  \n",
            " 4   Deceased      10670 non-null  int64  \n",
            " 5   Tested        9524 non-null   float64\n",
            " 6   Active Cases  10670 non-null  int64  \n",
            "dtypes: float64(1), int64(4), object(2)\n",
            "memory usage: 583.6+ KB\n"
          ],
          "name": "stdout"
        },
        {
          "output_type": "execute_result",
          "data": {
            "text/html": [
              "<div>\n",
              "<style scoped>\n",
              "    .dataframe tbody tr th:only-of-type {\n",
              "        vertical-align: middle;\n",
              "    }\n",
              "\n",
              "    .dataframe tbody tr th {\n",
              "        vertical-align: top;\n",
              "    }\n",
              "\n",
              "    .dataframe thead th {\n",
              "        text-align: right;\n",
              "    }\n",
              "</style>\n",
              "<table border=\"1\" class=\"dataframe\">\n",
              "  <thead>\n",
              "    <tr style=\"text-align: right;\">\n",
              "      <th></th>\n",
              "      <th>Date</th>\n",
              "      <th>State</th>\n",
              "      <th>Confirmed</th>\n",
              "      <th>Recovered</th>\n",
              "      <th>Deceased</th>\n",
              "      <th>Tested</th>\n",
              "      <th>Active Cases</th>\n",
              "    </tr>\n",
              "  </thead>\n",
              "  <tbody>\n",
              "    <tr>\n",
              "      <th>0</th>\n",
              "      <td>30-01-2020</td>\n",
              "      <td>Kerala</td>\n",
              "      <td>1</td>\n",
              "      <td>0</td>\n",
              "      <td>0</td>\n",
              "      <td>NaN</td>\n",
              "      <td>1</td>\n",
              "    </tr>\n",
              "    <tr>\n",
              "      <th>1</th>\n",
              "      <td>30-01-2020</td>\n",
              "      <td>India</td>\n",
              "      <td>1</td>\n",
              "      <td>0</td>\n",
              "      <td>0</td>\n",
              "      <td>NaN</td>\n",
              "      <td>1</td>\n",
              "    </tr>\n",
              "    <tr>\n",
              "      <th>2</th>\n",
              "      <td>02-02-2020</td>\n",
              "      <td>Kerala</td>\n",
              "      <td>2</td>\n",
              "      <td>0</td>\n",
              "      <td>0</td>\n",
              "      <td>NaN</td>\n",
              "      <td>2</td>\n",
              "    </tr>\n",
              "    <tr>\n",
              "      <th>3</th>\n",
              "      <td>02-02-2020</td>\n",
              "      <td>India</td>\n",
              "      <td>2</td>\n",
              "      <td>0</td>\n",
              "      <td>0</td>\n",
              "      <td>NaN</td>\n",
              "      <td>2</td>\n",
              "    </tr>\n",
              "    <tr>\n",
              "      <th>4</th>\n",
              "      <td>03-02-2020</td>\n",
              "      <td>Kerala</td>\n",
              "      <td>3</td>\n",
              "      <td>0</td>\n",
              "      <td>0</td>\n",
              "      <td>NaN</td>\n",
              "      <td>3</td>\n",
              "    </tr>\n",
              "    <tr>\n",
              "      <th>...</th>\n",
              "      <td>...</td>\n",
              "      <td>...</td>\n",
              "      <td>...</td>\n",
              "      <td>...</td>\n",
              "      <td>...</td>\n",
              "      <td>...</td>\n",
              "      <td>...</td>\n",
              "    </tr>\n",
              "    <tr>\n",
              "      <th>10665</th>\n",
              "      <td>08-01-2021</td>\n",
              "      <td>Tripura</td>\n",
              "      <td>33296</td>\n",
              "      <td>32829</td>\n",
              "      <td>385</td>\n",
              "      <td>588991.0</td>\n",
              "      <td>82</td>\n",
              "    </tr>\n",
              "    <tr>\n",
              "      <th>10666</th>\n",
              "      <td>08-01-2021</td>\n",
              "      <td>India</td>\n",
              "      <td>10432526</td>\n",
              "      <td>10055935</td>\n",
              "      <td>150835</td>\n",
              "      <td>179336364.0</td>\n",
              "      <td>225756</td>\n",
              "    </tr>\n",
              "    <tr>\n",
              "      <th>10667</th>\n",
              "      <td>08-01-2021</td>\n",
              "      <td>Uttar Pradesh</td>\n",
              "      <td>591610</td>\n",
              "      <td>571606</td>\n",
              "      <td>8469</td>\n",
              "      <td>25034039.0</td>\n",
              "      <td>11535</td>\n",
              "    </tr>\n",
              "    <tr>\n",
              "      <th>10668</th>\n",
              "      <td>08-01-2021</td>\n",
              "      <td>Uttarakhand</td>\n",
              "      <td>93111</td>\n",
              "      <td>87127</td>\n",
              "      <td>1562</td>\n",
              "      <td>1881487.0</td>\n",
              "      <td>4422</td>\n",
              "    </tr>\n",
              "    <tr>\n",
              "      <th>10669</th>\n",
              "      <td>08-01-2021</td>\n",
              "      <td>West Bengal</td>\n",
              "      <td>559099</td>\n",
              "      <td>540952</td>\n",
              "      <td>9902</td>\n",
              "      <td>7372156.0</td>\n",
              "      <td>8245</td>\n",
              "    </tr>\n",
              "  </tbody>\n",
              "</table>\n",
              "<p>10670 rows × 7 columns</p>\n",
              "</div>"
            ],
            "text/plain": [
              "             Date          State  ...       Tested  Active Cases\n",
              "0      30-01-2020         Kerala  ...          NaN             1\n",
              "1      30-01-2020          India  ...          NaN             1\n",
              "2      02-02-2020         Kerala  ...          NaN             2\n",
              "3      02-02-2020          India  ...          NaN             2\n",
              "4      03-02-2020         Kerala  ...          NaN             3\n",
              "...           ...            ...  ...          ...           ...\n",
              "10665  08-01-2021        Tripura  ...     588991.0            82\n",
              "10666  08-01-2021          India  ...  179336364.0        225756\n",
              "10667  08-01-2021  Uttar Pradesh  ...   25034039.0         11535\n",
              "10668  08-01-2021    Uttarakhand  ...    1881487.0          4422\n",
              "10669  08-01-2021    West Bengal  ...    7372156.0          8245\n",
              "\n",
              "[10670 rows x 7 columns]"
            ]
          },
          "metadata": {
            "tags": []
          },
          "execution_count": 3
        }
      ]
    },
    {
      "cell_type": "code",
      "metadata": {
        "colab": {
          "base_uri": "https://localhost:8080/"
        },
        "id": "A4Rf4ya6hIcN",
        "outputId": "9f427a8b-65a9-498d-92b5-a6ef5141fdda"
      },
      "source": [
        "df1['Date']=pd.to_datetime(df1['Date'],format='%d-%m-%Y')\n",
        "df1.info()"
      ],
      "execution_count": null,
      "outputs": [
        {
          "output_type": "stream",
          "text": [
            "<class 'pandas.core.frame.DataFrame'>\n",
            "RangeIndex: 10670 entries, 0 to 10669\n",
            "Data columns (total 7 columns):\n",
            " #   Column        Non-Null Count  Dtype         \n",
            "---  ------        --------------  -----         \n",
            " 0   Date          10670 non-null  datetime64[ns]\n",
            " 1   State         10670 non-null  object        \n",
            " 2   Confirmed     10670 non-null  int64         \n",
            " 3   Recovered     10670 non-null  int64         \n",
            " 4   Deceased      10670 non-null  int64         \n",
            " 5   Tested        9524 non-null   float64       \n",
            " 6   Active Cases  10670 non-null  int64         \n",
            "dtypes: datetime64[ns](1), float64(1), int64(4), object(1)\n",
            "memory usage: 583.6+ KB\n"
          ],
          "name": "stdout"
        }
      ]
    },
    {
      "cell_type": "code",
      "metadata": {
        "colab": {
          "base_uri": "https://localhost:8080/"
        },
        "id": "J_EkaEUpQpqU",
        "outputId": "1cef2ec5-70a6-481e-e87a-9ede96e7615f"
      },
      "source": [
        "#To find the unique states\n",
        "states=df1['State'].unique()\n",
        "print(states)"
      ],
      "execution_count": null,
      "outputs": [
        {
          "output_type": "stream",
          "text": [
            "['Kerala' 'India' 'Delhi' 'Telangana' 'Rajasthan' 'Haryana'\n",
            " 'Uttar Pradesh' 'Ladakh' 'Tamil Nadu' 'Jammu and Kashmir' 'Karnataka'\n",
            " 'Maharashtra' 'Punjab' 'Andhra Pradesh' 'Himachal Pradesh' 'Uttarakhand'\n",
            " 'Odisha' 'Puducherry' 'West Bengal' 'Chandigarh' 'Chhattisgarh' 'Gujarat'\n",
            " 'Madhya Pradesh' 'Bihar' 'Manipur' 'Goa' 'Mizoram'\n",
            " 'Andaman and Nicobar Islands' 'Assam' 'Jharkhand' 'Arunachal Pradesh'\n",
            " 'Nagaland' 'Tripura' 'Dadra and Nagar Haveli and Daman and Diu'\n",
            " 'Meghalaya' 'Sikkim']\n"
          ],
          "name": "stdout"
        }
      ]
    },
    {
      "cell_type": "code",
      "metadata": {
        "colab": {
          "base_uri": "https://localhost:8080/",
          "height": 431
        },
        "id": "O6gIfcL0hQx3",
        "outputId": "64239b2c-091f-450e-b12b-a172fab08654"
      },
      "source": [
        "df1.reset_index().set_index(\"Date\")"
      ],
      "execution_count": null,
      "outputs": [
        {
          "output_type": "execute_result",
          "data": {
            "text/html": [
              "<div>\n",
              "<style scoped>\n",
              "    .dataframe tbody tr th:only-of-type {\n",
              "        vertical-align: middle;\n",
              "    }\n",
              "\n",
              "    .dataframe tbody tr th {\n",
              "        vertical-align: top;\n",
              "    }\n",
              "\n",
              "    .dataframe thead th {\n",
              "        text-align: right;\n",
              "    }\n",
              "</style>\n",
              "<table border=\"1\" class=\"dataframe\">\n",
              "  <thead>\n",
              "    <tr style=\"text-align: right;\">\n",
              "      <th></th>\n",
              "      <th>index</th>\n",
              "      <th>State</th>\n",
              "      <th>Confirmed</th>\n",
              "      <th>Recovered</th>\n",
              "      <th>Deceased</th>\n",
              "      <th>Tested</th>\n",
              "      <th>Active Cases</th>\n",
              "    </tr>\n",
              "    <tr>\n",
              "      <th>Date</th>\n",
              "      <th></th>\n",
              "      <th></th>\n",
              "      <th></th>\n",
              "      <th></th>\n",
              "      <th></th>\n",
              "      <th></th>\n",
              "      <th></th>\n",
              "    </tr>\n",
              "  </thead>\n",
              "  <tbody>\n",
              "    <tr>\n",
              "      <th>2020-01-30</th>\n",
              "      <td>0</td>\n",
              "      <td>Kerala</td>\n",
              "      <td>1</td>\n",
              "      <td>0</td>\n",
              "      <td>0</td>\n",
              "      <td>NaN</td>\n",
              "      <td>1</td>\n",
              "    </tr>\n",
              "    <tr>\n",
              "      <th>2020-01-30</th>\n",
              "      <td>1</td>\n",
              "      <td>India</td>\n",
              "      <td>1</td>\n",
              "      <td>0</td>\n",
              "      <td>0</td>\n",
              "      <td>NaN</td>\n",
              "      <td>1</td>\n",
              "    </tr>\n",
              "    <tr>\n",
              "      <th>2020-02-02</th>\n",
              "      <td>2</td>\n",
              "      <td>Kerala</td>\n",
              "      <td>2</td>\n",
              "      <td>0</td>\n",
              "      <td>0</td>\n",
              "      <td>NaN</td>\n",
              "      <td>2</td>\n",
              "    </tr>\n",
              "    <tr>\n",
              "      <th>2020-02-02</th>\n",
              "      <td>3</td>\n",
              "      <td>India</td>\n",
              "      <td>2</td>\n",
              "      <td>0</td>\n",
              "      <td>0</td>\n",
              "      <td>NaN</td>\n",
              "      <td>2</td>\n",
              "    </tr>\n",
              "    <tr>\n",
              "      <th>2020-02-03</th>\n",
              "      <td>4</td>\n",
              "      <td>Kerala</td>\n",
              "      <td>3</td>\n",
              "      <td>0</td>\n",
              "      <td>0</td>\n",
              "      <td>NaN</td>\n",
              "      <td>3</td>\n",
              "    </tr>\n",
              "    <tr>\n",
              "      <th>...</th>\n",
              "      <td>...</td>\n",
              "      <td>...</td>\n",
              "      <td>...</td>\n",
              "      <td>...</td>\n",
              "      <td>...</td>\n",
              "      <td>...</td>\n",
              "      <td>...</td>\n",
              "    </tr>\n",
              "    <tr>\n",
              "      <th>2021-01-08</th>\n",
              "      <td>10665</td>\n",
              "      <td>Tripura</td>\n",
              "      <td>33296</td>\n",
              "      <td>32829</td>\n",
              "      <td>385</td>\n",
              "      <td>588991.0</td>\n",
              "      <td>82</td>\n",
              "    </tr>\n",
              "    <tr>\n",
              "      <th>2021-01-08</th>\n",
              "      <td>10666</td>\n",
              "      <td>India</td>\n",
              "      <td>10432526</td>\n",
              "      <td>10055935</td>\n",
              "      <td>150835</td>\n",
              "      <td>179336364.0</td>\n",
              "      <td>225756</td>\n",
              "    </tr>\n",
              "    <tr>\n",
              "      <th>2021-01-08</th>\n",
              "      <td>10667</td>\n",
              "      <td>Uttar Pradesh</td>\n",
              "      <td>591610</td>\n",
              "      <td>571606</td>\n",
              "      <td>8469</td>\n",
              "      <td>25034039.0</td>\n",
              "      <td>11535</td>\n",
              "    </tr>\n",
              "    <tr>\n",
              "      <th>2021-01-08</th>\n",
              "      <td>10668</td>\n",
              "      <td>Uttarakhand</td>\n",
              "      <td>93111</td>\n",
              "      <td>87127</td>\n",
              "      <td>1562</td>\n",
              "      <td>1881487.0</td>\n",
              "      <td>4422</td>\n",
              "    </tr>\n",
              "    <tr>\n",
              "      <th>2021-01-08</th>\n",
              "      <td>10669</td>\n",
              "      <td>West Bengal</td>\n",
              "      <td>559099</td>\n",
              "      <td>540952</td>\n",
              "      <td>9902</td>\n",
              "      <td>7372156.0</td>\n",
              "      <td>8245</td>\n",
              "    </tr>\n",
              "  </tbody>\n",
              "</table>\n",
              "<p>10670 rows × 7 columns</p>\n",
              "</div>"
            ],
            "text/plain": [
              "            index          State  ...       Tested  Active Cases\n",
              "Date                              ...                           \n",
              "2020-01-30      0         Kerala  ...          NaN             1\n",
              "2020-01-30      1          India  ...          NaN             1\n",
              "2020-02-02      2         Kerala  ...          NaN             2\n",
              "2020-02-02      3          India  ...          NaN             2\n",
              "2020-02-03      4         Kerala  ...          NaN             3\n",
              "...           ...            ...  ...          ...           ...\n",
              "2021-01-08  10665        Tripura  ...     588991.0            82\n",
              "2021-01-08  10666          India  ...  179336364.0        225756\n",
              "2021-01-08  10667  Uttar Pradesh  ...   25034039.0         11535\n",
              "2021-01-08  10668    Uttarakhand  ...    1881487.0          4422\n",
              "2021-01-08  10669    West Bengal  ...    7372156.0          8245\n",
              "\n",
              "[10670 rows x 7 columns]"
            ]
          },
          "metadata": {
            "tags": []
          },
          "execution_count": 6
        }
      ]
    },
    {
      "cell_type": "code",
      "metadata": {
        "id": "w9zsBGIXQriE"
      },
      "source": [
        "#Extracting data of each state from the main dataframe and saving it as a seperate dataframe as an element of the set S(cumulative) and d[daily]\n",
        "\n",
        "s={}\n",
        "d={}\n",
        "for i in states:\n",
        "  s[i]=pd.DataFrame()\n",
        "  d[i]=pd.DataFrame()\n",
        "  s[i]=df1[df1[\"State\"]==i]\n",
        "  d[i]=s[i].reset_index().set_index(\"Date\")\n",
        "  d[i]=d[i].drop(columns='State')                 \n",
        "  d[i]=d[i].diff()                                #finding the difference to make it a daily data \n",
        "  d[i]=d[i][1:]"
      ],
      "execution_count": null,
      "outputs": []
    },
    {
      "cell_type": "code",
      "metadata": {
        "id": "HkF9FIWqwxYI"
      },
      "source": [
        ""
      ],
      "execution_count": null,
      "outputs": []
    },
    {
      "cell_type": "markdown",
      "metadata": {
        "id": "2g1Cztf-wyRA"
      },
      "source": [
        "# **AR MODEL**"
      ]
    },
    {
      "cell_type": "code",
      "metadata": {
        "id": "OCe7OPhHRcnU"
      },
      "source": [
        "df=pd.DataFrame()"
      ],
      "execution_count": null,
      "outputs": []
    },
    {
      "cell_type": "code",
      "metadata": {
        "colab": {
          "base_uri": "https://localhost:8080/",
          "height": 402
        },
        "id": "KZt0O_1UQtxK",
        "outputId": "21d0db1a-3529-407e-fd46-2aaf508212c4"
      },
      "source": [
        "#Extracting only the date and confirmed cases\n",
        "df['x']=s['Kerala']['Date']\n",
        "df['y']=s['Kerala']['Confirmed']\n",
        "df"
      ],
      "execution_count": null,
      "outputs": [
        {
          "output_type": "execute_result",
          "data": {
            "text/html": [
              "<div>\n",
              "<style scoped>\n",
              "    .dataframe tbody tr th:only-of-type {\n",
              "        vertical-align: middle;\n",
              "    }\n",
              "\n",
              "    .dataframe tbody tr th {\n",
              "        vertical-align: top;\n",
              "    }\n",
              "\n",
              "    .dataframe thead th {\n",
              "        text-align: right;\n",
              "    }\n",
              "</style>\n",
              "<table border=\"1\" class=\"dataframe\">\n",
              "  <thead>\n",
              "    <tr style=\"text-align: right;\">\n",
              "      <th></th>\n",
              "      <th>x</th>\n",
              "      <th>y</th>\n",
              "    </tr>\n",
              "  </thead>\n",
              "  <tbody>\n",
              "    <tr>\n",
              "      <th>0</th>\n",
              "      <td>2020-01-30</td>\n",
              "      <td>1</td>\n",
              "    </tr>\n",
              "    <tr>\n",
              "      <th>2</th>\n",
              "      <td>2020-02-02</td>\n",
              "      <td>2</td>\n",
              "    </tr>\n",
              "    <tr>\n",
              "      <th>4</th>\n",
              "      <td>2020-02-03</td>\n",
              "      <td>3</td>\n",
              "    </tr>\n",
              "    <tr>\n",
              "      <th>6</th>\n",
              "      <td>2020-02-14</td>\n",
              "      <td>3</td>\n",
              "    </tr>\n",
              "    <tr>\n",
              "      <th>9</th>\n",
              "      <td>2020-03-02</td>\n",
              "      <td>3</td>\n",
              "    </tr>\n",
              "    <tr>\n",
              "      <th>...</th>\n",
              "      <td>...</td>\n",
              "      <td>...</td>\n",
              "    </tr>\n",
              "    <tr>\n",
              "      <th>10506</th>\n",
              "      <td>2021-01-04</td>\n",
              "      <td>778874</td>\n",
              "    </tr>\n",
              "    <tr>\n",
              "      <th>10542</th>\n",
              "      <td>2021-01-05</td>\n",
              "      <td>784489</td>\n",
              "    </tr>\n",
              "    <tr>\n",
              "      <th>10578</th>\n",
              "      <td>2021-01-06</td>\n",
              "      <td>790883</td>\n",
              "    </tr>\n",
              "    <tr>\n",
              "      <th>10614</th>\n",
              "      <td>2021-01-07</td>\n",
              "      <td>795934</td>\n",
              "    </tr>\n",
              "    <tr>\n",
              "      <th>10650</th>\n",
              "      <td>2021-01-08</td>\n",
              "      <td>801076</td>\n",
              "    </tr>\n",
              "  </tbody>\n",
              "</table>\n",
              "<p>317 rows × 2 columns</p>\n",
              "</div>"
            ],
            "text/plain": [
              "               x       y\n",
              "0     2020-01-30       1\n",
              "2     2020-02-02       2\n",
              "4     2020-02-03       3\n",
              "6     2020-02-14       3\n",
              "9     2020-03-02       3\n",
              "...          ...     ...\n",
              "10506 2021-01-04  778874\n",
              "10542 2021-01-05  784489\n",
              "10578 2021-01-06  790883\n",
              "10614 2021-01-07  795934\n",
              "10650 2021-01-08  801076\n",
              "\n",
              "[317 rows x 2 columns]"
            ]
          },
          "metadata": {
            "tags": []
          },
          "execution_count": 9
        }
      ]
    },
    {
      "cell_type": "code",
      "metadata": {
        "id": "lKlFX9ZFQwI5"
      },
      "source": [
        "#Setting the index and saving it into another dataframe\n",
        "df3=df.reset_index().set_index('x')\n"
      ],
      "execution_count": null,
      "outputs": []
    },
    {
      "cell_type": "code",
      "metadata": {
        "id": "sKDOs5y5ZRVV"
      },
      "source": [
        "#Dropping the index column\n",
        "df3=df3.drop(['index'],axis=1)\n"
      ],
      "execution_count": null,
      "outputs": []
    },
    {
      "cell_type": "code",
      "metadata": {
        "colab": {
          "base_uri": "https://localhost:8080/",
          "height": 431
        },
        "id": "WCogDnSHay94",
        "outputId": "1cff7271-90ac-4c92-c0c1-5d01bf5f79c5"
      },
      "source": [
        "df3"
      ],
      "execution_count": null,
      "outputs": [
        {
          "output_type": "execute_result",
          "data": {
            "text/html": [
              "<div>\n",
              "<style scoped>\n",
              "    .dataframe tbody tr th:only-of-type {\n",
              "        vertical-align: middle;\n",
              "    }\n",
              "\n",
              "    .dataframe tbody tr th {\n",
              "        vertical-align: top;\n",
              "    }\n",
              "\n",
              "    .dataframe thead th {\n",
              "        text-align: right;\n",
              "    }\n",
              "</style>\n",
              "<table border=\"1\" class=\"dataframe\">\n",
              "  <thead>\n",
              "    <tr style=\"text-align: right;\">\n",
              "      <th></th>\n",
              "      <th>y</th>\n",
              "    </tr>\n",
              "    <tr>\n",
              "      <th>x</th>\n",
              "      <th></th>\n",
              "    </tr>\n",
              "  </thead>\n",
              "  <tbody>\n",
              "    <tr>\n",
              "      <th>2020-01-30</th>\n",
              "      <td>1</td>\n",
              "    </tr>\n",
              "    <tr>\n",
              "      <th>2020-02-02</th>\n",
              "      <td>2</td>\n",
              "    </tr>\n",
              "    <tr>\n",
              "      <th>2020-02-03</th>\n",
              "      <td>3</td>\n",
              "    </tr>\n",
              "    <tr>\n",
              "      <th>2020-02-14</th>\n",
              "      <td>3</td>\n",
              "    </tr>\n",
              "    <tr>\n",
              "      <th>2020-03-02</th>\n",
              "      <td>3</td>\n",
              "    </tr>\n",
              "    <tr>\n",
              "      <th>...</th>\n",
              "      <td>...</td>\n",
              "    </tr>\n",
              "    <tr>\n",
              "      <th>2021-01-04</th>\n",
              "      <td>778874</td>\n",
              "    </tr>\n",
              "    <tr>\n",
              "      <th>2021-01-05</th>\n",
              "      <td>784489</td>\n",
              "    </tr>\n",
              "    <tr>\n",
              "      <th>2021-01-06</th>\n",
              "      <td>790883</td>\n",
              "    </tr>\n",
              "    <tr>\n",
              "      <th>2021-01-07</th>\n",
              "      <td>795934</td>\n",
              "    </tr>\n",
              "    <tr>\n",
              "      <th>2021-01-08</th>\n",
              "      <td>801076</td>\n",
              "    </tr>\n",
              "  </tbody>\n",
              "</table>\n",
              "<p>317 rows × 1 columns</p>\n",
              "</div>"
            ],
            "text/plain": [
              "                 y\n",
              "x                 \n",
              "2020-01-30       1\n",
              "2020-02-02       2\n",
              "2020-02-03       3\n",
              "2020-02-14       3\n",
              "2020-03-02       3\n",
              "...            ...\n",
              "2021-01-04  778874\n",
              "2021-01-05  784489\n",
              "2021-01-06  790883\n",
              "2021-01-07  795934\n",
              "2021-01-08  801076\n",
              "\n",
              "[317 rows x 1 columns]"
            ]
          },
          "metadata": {
            "tags": []
          },
          "execution_count": 12
        }
      ]
    },
    {
      "cell_type": "code",
      "metadata": {
        "colab": {
          "base_uri": "https://localhost:8080/",
          "height": 294
        },
        "id": "yimVXdnTa1pI",
        "outputId": "849d92cf-4f51-44e4-f40f-cd29d5514480"
      },
      "source": [
        "ax=df3.plot(legend=True,c='r')\n",
        "ax.legend(['Confirmed cases'])"
      ],
      "execution_count": null,
      "outputs": [
        {
          "output_type": "execute_result",
          "data": {
            "text/plain": [
              "<matplotlib.legend.Legend at 0x7fe79b5e8a20>"
            ]
          },
          "metadata": {
            "tags": []
          },
          "execution_count": 13
        },
        {
          "output_type": "display_data",
          "data": {
            "image/png": "[encoded data removed]",
            "text/plain": [
              "<Figure size 432x288 with 1 Axes>"
            ]
          },
          "metadata": {
            "tags": [],
            "needs_background": "light"
          }
        }
      ]
    },
    {
      "cell_type": "code",
      "metadata": {
        "id": "SsJB6x-XO91k"
      },
      "source": [
        ""
      ],
      "execution_count": null,
      "outputs": []
    },
    {
      "cell_type": "markdown",
      "metadata": {
        "id": "l72MFqmOO-Xz"
      },
      "source": [
        "# **AR(0)**"
      ]
    },
    {
      "cell_type": "code",
      "metadata": {
        "colab": {
          "base_uri": "https://localhost:8080/"
        },
        "id": "jtc24E8bmuEs",
        "outputId": "0b749856-46bf-41f5-f156-bf65097f57df"
      },
      "source": [
        "x=df3.values\n",
        "x.size"
      ],
      "execution_count": null,
      "outputs": [
        {
          "output_type": "execute_result",
          "data": {
            "text/plain": [
              "317"
            ]
          },
          "metadata": {
            "tags": []
          },
          "execution_count": 14
        }
      ]
    },
    {
      "cell_type": "code",
      "metadata": {
        "id": "xRO1hzLooa7m"
      },
      "source": [
        "from statsmodels.tsa.ar_model import AR \n",
        "from sklearn.metrics import mean_squared_error\n",
        "trc=x[0:308]\n",
        "tec=x[306:]\n",
        "m=AR(trc)\n",
        "m_f=m.fit()\n",
        "prec=m_f.predict(start=306,end=316)"
      ],
      "execution_count": null,
      "outputs": []
    },
    {
      "cell_type": "code",
      "metadata": {
        "colab": {
          "base_uri": "https://localhost:8080/",
          "height": 283
        },
        "id": "ycU9Fg3fpNVl",
        "outputId": "b5a63df3-0845-4b2e-d5f2-68bd99d06e86"
      },
      "source": [
        "import matplotlib.pyplot as plt\n",
        "plt.plot(x[306:],label=\"TEST\")\n",
        "plt.plot(prec,label=\"PREDICTIONS\")\n",
        "plt.legend()"
      ],
      "execution_count": null,
      "outputs": [
        {
          "output_type": "execute_result",
          "data": {
            "text/plain": [
              "<matplotlib.legend.Legend at 0x7f90eff73eb8>"
            ]
          },
          "metadata": {
            "tags": []
          },
          "execution_count": 59
        },
        {
          "output_type": "display_data",
          "data": {
            "image/png": "[encoded data removed]",
            "text/plain": [
              "<Figure size 432x288 with 1 Axes>"
            ]
          },
          "metadata": {
            "tags": [],
            "needs_background": "light"
          }
        }
      ]
    },
    {
      "cell_type": "code",
      "metadata": {
        "colab": {
          "base_uri": "https://localhost:8080/",
          "height": 413
        },
        "id": "VeQEcdncpSp9",
        "outputId": "cc59e4b1-3ad7-4099-d4e4-204ca35d582d"
      },
      "source": [
        "from sklearn.metrics import explained_variance_score\n",
        "acc=explained_variance_score(x[306:],prec)\n",
        "print(acc*100)\n",
        "l=pd.DataFrame(columns=[\"Date\",\"Original\",\"Predicted\",'Difference'])\n",
        "l[\"Date\"]=[i for i in df['x'][306:]]\n",
        "l[\"Original\"]=x[306:]\n",
        "l[\"Predicted\"]=prec\n",
        "l[\"Difference\"]=l[\"Predicted\"]-l[\"Original\"]\n",
        "l\n"
      ],
      "execution_count": null,
      "outputs": [
        {
          "output_type": "stream",
          "text": [
            "98.96975632100288\n"
          ],
          "name": "stdout"
        },
        {
          "output_type": "execute_result",
          "data": {
            "text/html": [
              "<div>\n",
              "<style scoped>\n",
              "    .dataframe tbody tr th:only-of-type {\n",
              "        vertical-align: middle;\n",
              "    }\n",
              "\n",
              "    .dataframe tbody tr th {\n",
              "        vertical-align: top;\n",
              "    }\n",
              "\n",
              "    .dataframe thead th {\n",
              "        text-align: right;\n",
              "    }\n",
              "</style>\n",
              "<table border=\"1\" class=\"dataframe\">\n",
              "  <thead>\n",
              "    <tr style=\"text-align: right;\">\n",
              "      <th></th>\n",
              "      <th>Date</th>\n",
              "      <th>Original</th>\n",
              "      <th>Predicted</th>\n",
              "      <th>Difference</th>\n",
              "    </tr>\n",
              "  </thead>\n",
              "  <tbody>\n",
              "    <tr>\n",
              "      <th>0</th>\n",
              "      <td>2020-12-29</td>\n",
              "      <td>749451</td>\n",
              "      <td>748426.609377</td>\n",
              "      <td>-1024.390623</td>\n",
              "    </tr>\n",
              "    <tr>\n",
              "      <th>1</th>\n",
              "      <td>2020-12-30</td>\n",
              "      <td>755719</td>\n",
              "      <td>755023.704063</td>\n",
              "      <td>-695.295937</td>\n",
              "    </tr>\n",
              "    <tr>\n",
              "      <th>2</th>\n",
              "      <td>2020-12-31</td>\n",
              "      <td>760934</td>\n",
              "      <td>760169.928826</td>\n",
              "      <td>-764.071174</td>\n",
              "    </tr>\n",
              "    <tr>\n",
              "      <th>3</th>\n",
              "      <td>2021-01-01</td>\n",
              "      <td>765925</td>\n",
              "      <td>764369.655731</td>\n",
              "      <td>-1555.344269</td>\n",
              "    </tr>\n",
              "    <tr>\n",
              "      <th>4</th>\n",
              "      <td>2021-01-02</td>\n",
              "      <td>771253</td>\n",
              "      <td>768287.343946</td>\n",
              "      <td>-2965.656054</td>\n",
              "    </tr>\n",
              "    <tr>\n",
              "      <th>5</th>\n",
              "      <td>2021-01-03</td>\n",
              "      <td>775853</td>\n",
              "      <td>772936.461045</td>\n",
              "      <td>-2916.538955</td>\n",
              "    </tr>\n",
              "    <tr>\n",
              "      <th>6</th>\n",
              "      <td>2021-01-04</td>\n",
              "      <td>778874</td>\n",
              "      <td>776485.716697</td>\n",
              "      <td>-2388.283303</td>\n",
              "    </tr>\n",
              "    <tr>\n",
              "      <th>7</th>\n",
              "      <td>2021-01-05</td>\n",
              "      <td>784489</td>\n",
              "      <td>781768.044411</td>\n",
              "      <td>-2720.955589</td>\n",
              "    </tr>\n",
              "    <tr>\n",
              "      <th>8</th>\n",
              "      <td>2021-01-06</td>\n",
              "      <td>790883</td>\n",
              "      <td>787109.475575</td>\n",
              "      <td>-3773.524425</td>\n",
              "    </tr>\n",
              "    <tr>\n",
              "      <th>9</th>\n",
              "      <td>2021-01-07</td>\n",
              "      <td>795934</td>\n",
              "      <td>790900.634816</td>\n",
              "      <td>-5033.365184</td>\n",
              "    </tr>\n",
              "    <tr>\n",
              "      <th>10</th>\n",
              "      <td>2021-01-08</td>\n",
              "      <td>801076</td>\n",
              "      <td>795202.461170</td>\n",
              "      <td>-5873.538830</td>\n",
              "    </tr>\n",
              "  </tbody>\n",
              "</table>\n",
              "</div>"
            ],
            "text/plain": [
              "         Date  Original      Predicted   Difference\n",
              "0  2020-12-29    749451  748426.609377 -1024.390623\n",
              "1  2020-12-30    755719  755023.704063  -695.295937\n",
              "2  2020-12-31    760934  760169.928826  -764.071174\n",
              "3  2021-01-01    765925  764369.655731 -1555.344269\n",
              "4  2021-01-02    771253  768287.343946 -2965.656054\n",
              "5  2021-01-03    775853  772936.461045 -2916.538955\n",
              "6  2021-01-04    778874  776485.716697 -2388.283303\n",
              "7  2021-01-05    784489  781768.044411 -2720.955589\n",
              "8  2021-01-06    790883  787109.475575 -3773.524425\n",
              "9  2021-01-07    795934  790900.634816 -5033.365184\n",
              "10 2021-01-08    801076  795202.461170 -5873.538830"
            ]
          },
          "metadata": {
            "tags": []
          },
          "execution_count": 60
        }
      ]
    },
    {
      "cell_type": "code",
      "metadata": {
        "colab": {
          "base_uri": "https://localhost:8080/"
        },
        "id": "XIOWVkhdsWFE",
        "outputId": "4350ea87-31f1-4871-e47a-00296b22c49d"
      },
      "source": [
        "RMS={'AR(0)':(((l['Predicted']-l['Original'])**2).mean())**0.5}\n",
        "RMS"
      ],
      "execution_count": null,
      "outputs": [
        {
          "output_type": "execute_result",
          "data": {
            "text/plain": [
              "{'AR(0)': 3148.1197121905498}"
            ]
          },
          "metadata": {
            "tags": []
          },
          "execution_count": 61
        }
      ]
    },
    {
      "cell_type": "markdown",
      "metadata": {
        "id": "IrQwxuIMBRYQ"
      },
      "source": [
        "# HES"
      ]
    },
    {
      "cell_type": "code",
      "metadata": {
        "id": "nWCQrE4aBTjj"
      },
      "source": [
        "import statsmodels.tsa.holtwinters as ets\n"
      ],
      "execution_count": null,
      "outputs": []
    },
    {
      "cell_type": "code",
      "metadata": {
        "id": "ed36vAopBhO3"
      },
      "source": [
        "train=s['Kerala']['Confirmed'][:306].values\n",
        "test=s['Kerala']['Confirmed'][306:].values"
      ],
      "execution_count": null,
      "outputs": []
    },
    {
      "cell_type": "code",
      "metadata": {
        "id": "DWKpufyDycb2"
      },
      "source": [
        "holt_model=ets.ExponentialSmoothing(train,trend='additive',damped=False,seasonal=None).fit()"
      ],
      "execution_count": null,
      "outputs": []
    },
    {
      "cell_type": "code",
      "metadata": {
        "id": "a8bPardUM-2z"
      },
      "source": [
        "forecast=holt_model.forecast(steps=11)"
      ],
      "execution_count": null,
      "outputs": []
    },
    {
      "cell_type": "code",
      "metadata": {
        "colab": {
          "base_uri": "https://localhost:8080/",
          "height": 283
        },
        "id": "dwH_K4byNBtt",
        "outputId": "c39f8b83-fe57-4d11-9673-6b96cd7b6954"
      },
      "source": [
        "import matplotlib.pyplot as plt\n",
        "#plt.plot(test)\n",
        "#plt.plot(forecast,color='red')\n",
        "plt.plot(test,label='Test')\n",
        "plt.plot(forecast,label='Prediction',color='red')\n",
        "plt.legend()"
      ],
      "execution_count": null,
      "outputs": [
        {
          "output_type": "execute_result",
          "data": {
            "text/plain": [
              "<matplotlib.legend.Legend at 0x7f90ee763278>"
            ]
          },
          "metadata": {
            "tags": []
          },
          "execution_count": 101
        },
        {
          "output_type": "display_data",
          "data": {
            "image/png": "[encoded data removed]",
            "text/plain": [
              "<Figure size 432x288 with 1 Axes>"
            ]
          },
          "metadata": {
            "tags": [],
            "needs_background": "light"
          }
        }
      ]
    },
    {
      "cell_type": "code",
      "metadata": {
        "colab": {
          "base_uri": "https://localhost:8080/",
          "height": 394
        },
        "id": "90jteI7pQ-TZ",
        "outputId": "9ededc35-e088-4d96-d539-872c78aa962f"
      },
      "source": [
        "l=pd.DataFrame()\n",
        "l['Date']=s['Kerala']['Date'][306:]\n",
        "l['Confirmed']=test\n",
        "l['Predicted']=forecast\n",
        "l['Difference']=l['Predicted']-l['Confirmed']\n",
        "l"
      ],
      "execution_count": null,
      "outputs": [
        {
          "output_type": "execute_result",
          "data": {
            "text/html": [
              "<div>\n",
              "<style scoped>\n",
              "    .dataframe tbody tr th:only-of-type {\n",
              "        vertical-align: middle;\n",
              "    }\n",
              "\n",
              "    .dataframe tbody tr th {\n",
              "        vertical-align: top;\n",
              "    }\n",
              "\n",
              "    .dataframe thead th {\n",
              "        text-align: right;\n",
              "    }\n",
              "</style>\n",
              "<table border=\"1\" class=\"dataframe\">\n",
              "  <thead>\n",
              "    <tr style=\"text-align: right;\">\n",
              "      <th></th>\n",
              "      <th>Date</th>\n",
              "      <th>Confirmed</th>\n",
              "      <th>Predicted</th>\n",
              "      <th>Difference</th>\n",
              "    </tr>\n",
              "  </thead>\n",
              "  <tbody>\n",
              "    <tr>\n",
              "      <th>10290</th>\n",
              "      <td>2020-12-29</td>\n",
              "      <td>749451</td>\n",
              "      <td>748213.621999</td>\n",
              "      <td>-1237.378001</td>\n",
              "    </tr>\n",
              "    <tr>\n",
              "      <th>10326</th>\n",
              "      <td>2020-12-30</td>\n",
              "      <td>755719</td>\n",
              "      <td>752758.025555</td>\n",
              "      <td>-2960.974445</td>\n",
              "    </tr>\n",
              "    <tr>\n",
              "      <th>10362</th>\n",
              "      <td>2020-12-31</td>\n",
              "      <td>760934</td>\n",
              "      <td>757302.429110</td>\n",
              "      <td>-3631.570890</td>\n",
              "    </tr>\n",
              "    <tr>\n",
              "      <th>10398</th>\n",
              "      <td>2021-01-01</td>\n",
              "      <td>765925</td>\n",
              "      <td>761846.832666</td>\n",
              "      <td>-4078.167334</td>\n",
              "    </tr>\n",
              "    <tr>\n",
              "      <th>10434</th>\n",
              "      <td>2021-01-02</td>\n",
              "      <td>771253</td>\n",
              "      <td>766391.236221</td>\n",
              "      <td>-4861.763779</td>\n",
              "    </tr>\n",
              "    <tr>\n",
              "      <th>10470</th>\n",
              "      <td>2021-01-03</td>\n",
              "      <td>775853</td>\n",
              "      <td>770935.639777</td>\n",
              "      <td>-4917.360223</td>\n",
              "    </tr>\n",
              "    <tr>\n",
              "      <th>10506</th>\n",
              "      <td>2021-01-04</td>\n",
              "      <td>778874</td>\n",
              "      <td>775480.043333</td>\n",
              "      <td>-3393.956667</td>\n",
              "    </tr>\n",
              "    <tr>\n",
              "      <th>10542</th>\n",
              "      <td>2021-01-05</td>\n",
              "      <td>784489</td>\n",
              "      <td>780024.446888</td>\n",
              "      <td>-4464.553112</td>\n",
              "    </tr>\n",
              "    <tr>\n",
              "      <th>10578</th>\n",
              "      <td>2021-01-06</td>\n",
              "      <td>790883</td>\n",
              "      <td>784568.850444</td>\n",
              "      <td>-6314.149556</td>\n",
              "    </tr>\n",
              "    <tr>\n",
              "      <th>10614</th>\n",
              "      <td>2021-01-07</td>\n",
              "      <td>795934</td>\n",
              "      <td>789113.253999</td>\n",
              "      <td>-6820.746001</td>\n",
              "    </tr>\n",
              "    <tr>\n",
              "      <th>10650</th>\n",
              "      <td>2021-01-08</td>\n",
              "      <td>801076</td>\n",
              "      <td>793657.657555</td>\n",
              "      <td>-7418.342445</td>\n",
              "    </tr>\n",
              "  </tbody>\n",
              "</table>\n",
              "</div>"
            ],
            "text/plain": [
              "            Date  Confirmed      Predicted   Difference\n",
              "10290 2020-12-29     749451  748213.621999 -1237.378001\n",
              "10326 2020-12-30     755719  752758.025555 -2960.974445\n",
              "10362 2020-12-31     760934  757302.429110 -3631.570890\n",
              "10398 2021-01-01     765925  761846.832666 -4078.167334\n",
              "10434 2021-01-02     771253  766391.236221 -4861.763779\n",
              "10470 2021-01-03     775853  770935.639777 -4917.360223\n",
              "10506 2021-01-04     778874  775480.043333 -3393.956667\n",
              "10542 2021-01-05     784489  780024.446888 -4464.553112\n",
              "10578 2021-01-06     790883  784568.850444 -6314.149556\n",
              "10614 2021-01-07     795934  789113.253999 -6820.746001\n",
              "10650 2021-01-08     801076  793657.657555 -7418.342445"
            ]
          },
          "metadata": {
            "tags": []
          },
          "execution_count": 102
        }
      ]
    },
    {
      "cell_type": "code",
      "metadata": {
        "colab": {
          "base_uri": "https://localhost:8080/"
        },
        "id": "1Nb3RoHZNPhD",
        "outputId": "20169a7d-cf38-4899-f8ea-b0dae7a88818"
      },
      "source": [
        "print((((forecast-test)**2).mean())**0.5)"
      ],
      "execution_count": null,
      "outputs": [
        {
          "output_type": "stream",
          "text": [
            "4869.286396509914\n"
          ],
          "name": "stdout"
        }
      ]
    },
    {
      "cell_type": "markdown",
      "metadata": {
        "id": "ox7dhjjQa22v"
      },
      "source": [
        "# **De-Trending**"
      ]
    },
    {
      "cell_type": "code",
      "metadata": {
        "id": "EPLqGn98NnDj"
      },
      "source": [
        "import numpy as np\n",
        "import matplotlib.pyplot as plt\n",
        "\n"
      ],
      "execution_count": null,
      "outputs": []
    },
    {
      "cell_type": "code",
      "metadata": {
        "colab": {
          "base_uri": "https://localhost:8080/",
          "height": 669
        },
        "id": "krkkifVNWCha",
        "outputId": "3d555c38-2854-46a0-cd63-e51852631172"
      },
      "source": [
        "\n",
        "\n",
        "fig, ax = plt.subplots(2, sharex=True, figsize=(12,6))\n",
        "ax[0].plot(df3.values);\n",
        "ax[0].set_title(\"Raw data\");\n",
        "ax[1].plot(np.log(df3.values));\n",
        "ax[1].set_title(\"logged data\")\n",
        "plt.show()\n",
        "m=np.log(df3)\n",
        "ax=m.plot(legend=True,c='r')\n",
        "ax.legend(['log(Confirmed cases)'])"
      ],
      "execution_count": null,
      "outputs": [
        {
          "output_type": "display_data",
          "data": {
            "image/png": "[encoded data removed]",
            "text/plain": [
              "<Figure size 864x432 with 2 Axes>"
            ]
          },
          "metadata": {
            "tags": [],
            "needs_background": "light"
          }
        },
        {
          "output_type": "execute_result",
          "data": {
            "text/plain": [
              "<matplotlib.legend.Legend at 0x7fda931de550>"
            ]
          },
          "metadata": {
            "tags": []
          },
          "execution_count": 14
        },
        {
          "output_type": "display_data",
          "data": {
            "image/png": "[encoded data removed]",
            "text/plain": [
              "<Figure size 432x288 with 1 Axes>"
            ]
          },
          "metadata": {
            "tags": [],
            "needs_background": "light"
          }
        }
      ]
    },
    {
      "cell_type": "code",
      "metadata": {
        "colab": {
          "base_uri": "https://localhost:8080/"
        },
        "id": "3LFkFY7wbKyE",
        "outputId": "db9c21f7-9635-4318-f11e-f13c49d4f94f"
      },
      "source": [
        "#KPSS to check the stationarity\n",
        "from statsmodels.tsa.stattools import kpss\n",
        "\n",
        "print(\" > Is the data stationary ?\")\n",
        "dftest = kpss(np.log(df3.values), 'ct')\n",
        "print(\"Test statistic = {:.3f}\".format(dftest[0]))\n",
        "print(\"P-value = {:.3f}\".format(dftest[1]))\n",
        "print(\"Critical values :\")\n",
        "for k, v in dftest[3].items():\n",
        "    print(\"\\t{}: {}\".format(k, v))"
      ],
      "execution_count": null,
      "outputs": [
        {
          "output_type": "stream",
          "text": [
            " > Is the data stationary ?\n",
            "Test statistic = 0.240\n",
            "P-value = 0.010\n",
            "Critical values :\n",
            "\t10%: 0.119\n",
            "\t5%: 0.146\n",
            "\t2.5%: 0.176\n",
            "\t1%: 0.216\n"
          ],
          "name": "stdout"
        },
        {
          "output_type": "stream",
          "text": [
            "/usr/local/lib/python3.6/dist-packages/statsmodels/tsa/stattools.py:1685: FutureWarning: The behavior of using lags=None will change in the next release. Currently lags=None is the same as lags='legacy', and so a sample-size lag length is used. After the next release, the default will change to be the same as lags='auto' which uses an automatic lag length selection method. To silence this warning, either use 'auto' or 'legacy'\n",
            "  warn(msg, FutureWarning)\n",
            "/usr/local/lib/python3.6/dist-packages/statsmodels/tsa/stattools.py:1709: InterpolationWarning: p-value is smaller than the indicated p-value\n",
            "  warn(\"p-value is smaller than the indicated p-value\", InterpolationWarning)\n"
          ],
          "name": "stderr"
        }
      ]
    },
    {
      "cell_type": "code",
      "metadata": {
        "colab": {
          "base_uri": "https://localhost:8080/",
          "height": 390
        },
        "id": "Rgn6hHUQWk_b",
        "outputId": "404f2ee3-ebe8-4f54-9b14-bbf3be9ea87f"
      },
      "source": [
        "from statsmodels.graphics.tsaplots import plot_acf, plot_pacf\n",
        "fig, ax = plt.subplots(2, 2, figsize=(12,6))\n",
        "first_diff = (np.log(df3.values)- np.log((df3.shift(30)).values))\n",
        "ax[0,0] = plot_acf(np.log(df3.values), ax=ax[0,0], lags=20, title=\"ACF - Logged data\")\n",
        "ax[1, 0] = plot_pacf(np.log(df3.values), ax=ax[1, 0], lags=20, title=\"PACF - Logged data\")\n",
        "ax[0, 1] = plot_acf(first_diff , ax=ax[0, 1], lags=20, title=\"ACF - Differenced Logged data\")\n",
        "ax[1, 1] = plot_pacf(first_diff, ax=ax[1, 1], lags=20, title=\"PACF - Differenced Logged data\")\n"
      ],
      "execution_count": null,
      "outputs": [
        {
          "output_type": "display_data",
          "data": {
            "image/png": "[encoded data removed]",
            "text/plain": [
              "<Figure size 864x432 with 4 Axes>"
            ]
          },
          "metadata": {
            "tags": [],
            "needs_background": "light"
          }
        }
      ]
    },
    {
      "cell_type": "code",
      "metadata": {
        "colab": {
          "base_uri": "https://localhost:8080/",
          "height": 629
        },
        "id": "v1RRHheiXMUk",
        "outputId": "173adc99-8ac3-462b-e8d3-e2e02341b9a5"
      },
      "source": [
        "import math\n",
        "x_log_=np.log(df3.values)\n",
        "from statsmodels.tsa.ar_model import AR \n",
        "from sklearn.metrics import mean_squared_error\n",
        "trc=x_log_[0:280]\n",
        "tec=x_log_[280:]\n",
        "m=AR(trc)\n",
        "m_f=m.fit()\n",
        "prec=m_f.predict(start=280,end=289)\n",
        "from sklearn.metrics import explained_variance_score\n",
        "acc=explained_variance_score(x_log_[280:],prec)\n",
        "print(acc*100)\n",
        "l=pd.DataFrame(columns=[\"Date\",\"Original\",\"Predicted\",'Difference'])\n",
        "l[\"Date\"]=[i for i in df['x'][280:290]]\n",
        "l[\"Original\"]=[math.exp(x_log_[i]) for i in range(280,290)]\n",
        "l[\"Predicted\"]=[math.exp(prec[i]) for i in range(0,10)]\n",
        "l[\"Difference\"]=l[\"Predicted\"]-l[\"Original\"]\n",
        "plt.plot(l[\"Original\"],label=\"TEST\")\n",
        "plt.plot(l[\"Predicted\"],label=\"PREDICTIONS\")\n",
        "plt.legend()\n",
        "l"
      ],
      "execution_count": null,
      "outputs": [
        {
          "output_type": "stream",
          "text": [
            "84.10944541647585\n"
          ],
          "name": "stdout"
        },
        {
          "output_type": "execute_result",
          "data": {
            "text/html": [
              "<div>\n",
              "<style scoped>\n",
              "    .dataframe tbody tr th:only-of-type {\n",
              "        vertical-align: middle;\n",
              "    }\n",
              "\n",
              "    .dataframe tbody tr th {\n",
              "        vertical-align: top;\n",
              "    }\n",
              "\n",
              "    .dataframe thead th {\n",
              "        text-align: right;\n",
              "    }\n",
              "</style>\n",
              "<table border=\"1\" class=\"dataframe\">\n",
              "  <thead>\n",
              "    <tr style=\"text-align: right;\">\n",
              "      <th></th>\n",
              "      <th>Date</th>\n",
              "      <th>Original</th>\n",
              "      <th>Predicted</th>\n",
              "      <th>Difference</th>\n",
              "    </tr>\n",
              "  </thead>\n",
              "  <tbody>\n",
              "    <tr>\n",
              "      <th>0</th>\n",
              "      <td>2020-12-03</td>\n",
              "      <td>620050.0</td>\n",
              "      <td>619539.349044</td>\n",
              "      <td>-510.650956</td>\n",
              "    </tr>\n",
              "    <tr>\n",
              "      <th>1</th>\n",
              "      <td>2020-12-04</td>\n",
              "      <td>625768.0</td>\n",
              "      <td>624655.616558</td>\n",
              "      <td>-1112.383442</td>\n",
              "    </tr>\n",
              "    <tr>\n",
              "      <th>2</th>\n",
              "      <td>2020-12-05</td>\n",
              "      <td>631616.0</td>\n",
              "      <td>631213.261908</td>\n",
              "      <td>-402.738092</td>\n",
              "    </tr>\n",
              "    <tr>\n",
              "      <th>3</th>\n",
              "      <td>2020-12-06</td>\n",
              "      <td>636393.0</td>\n",
              "      <td>637447.103791</td>\n",
              "      <td>1054.103791</td>\n",
              "    </tr>\n",
              "    <tr>\n",
              "      <th>4</th>\n",
              "      <td>2020-12-07</td>\n",
              "      <td>639665.0</td>\n",
              "      <td>643424.764361</td>\n",
              "      <td>3759.764361</td>\n",
              "    </tr>\n",
              "    <tr>\n",
              "      <th>5</th>\n",
              "      <td>2020-12-08</td>\n",
              "      <td>644697.0</td>\n",
              "      <td>650645.108153</td>\n",
              "      <td>5948.108153</td>\n",
              "    </tr>\n",
              "    <tr>\n",
              "      <th>6</th>\n",
              "      <td>2020-12-09</td>\n",
              "      <td>649572.0</td>\n",
              "      <td>657902.345589</td>\n",
              "      <td>8330.345589</td>\n",
              "    </tr>\n",
              "    <tr>\n",
              "      <th>7</th>\n",
              "      <td>2020-12-10</td>\n",
              "      <td>654042.0</td>\n",
              "      <td>664676.995531</td>\n",
              "      <td>10634.995531</td>\n",
              "    </tr>\n",
              "    <tr>\n",
              "      <th>8</th>\n",
              "      <td>2020-12-11</td>\n",
              "      <td>658684.0</td>\n",
              "      <td>672098.339564</td>\n",
              "      <td>13414.339564</td>\n",
              "    </tr>\n",
              "    <tr>\n",
              "      <th>9</th>\n",
              "      <td>2020-12-12</td>\n",
              "      <td>664633.0</td>\n",
              "      <td>679483.438968</td>\n",
              "      <td>14850.438968</td>\n",
              "    </tr>\n",
              "  </tbody>\n",
              "</table>\n",
              "</div>"
            ],
            "text/plain": [
              "        Date  Original      Predicted    Difference\n",
              "0 2020-12-03  620050.0  619539.349044   -510.650956\n",
              "1 2020-12-04  625768.0  624655.616558  -1112.383442\n",
              "2 2020-12-05  631616.0  631213.261908   -402.738092\n",
              "3 2020-12-06  636393.0  637447.103791   1054.103791\n",
              "4 2020-12-07  639665.0  643424.764361   3759.764361\n",
              "5 2020-12-08  644697.0  650645.108153   5948.108153\n",
              "6 2020-12-09  649572.0  657902.345589   8330.345589\n",
              "7 2020-12-10  654042.0  664676.995531  10634.995531\n",
              "8 2020-12-11  658684.0  672098.339564  13414.339564\n",
              "9 2020-12-12  664633.0  679483.438968  14850.438968"
            ]
          },
          "metadata": {
            "tags": []
          },
          "execution_count": 76
        },
        {
          "output_type": "display_data",
          "data": {
            "image/png": "[encoded data removed]",
            "text/plain": [
              "<Figure size 432x288 with 1 Axes>"
            ]
          },
          "metadata": {
            "tags": [],
            "needs_background": "light"
          }
        }
      ]
    },
    {
      "cell_type": "code",
      "metadata": {
        "colab": {
          "base_uri": "https://localhost:8080/"
        },
        "id": "9Lc-2LiscWed",
        "outputId": "6ead0f65-b1b4-4e21-b33e-c6fa7834986b"
      },
      "source": [
        "RMS={'AR(0)':(((l['Predicted']-l['Original'])**2).mean())**0.5}\n",
        "RMS"
      ],
      "execution_count": null,
      "outputs": [
        {
          "output_type": "execute_result",
          "data": {
            "text/plain": [
              "{'AR(0)': 7970.352211612811}"
            ]
          },
          "metadata": {
            "tags": []
          },
          "execution_count": 77
        }
      ]
    },
    {
      "cell_type": "code",
      "metadata": {
        "colab": {
          "base_uri": "https://localhost:8080/",
          "height": 608
        },
        "id": "AWhROZAyb8ZN",
        "outputId": "69de1db6-68f8-4ff1-abe5-f7466b7a5dd6"
      },
      "source": [
        "df3_diff=df3.shift(6)\n",
        "x_log=np.log(df3_diff.values)\n",
        "x_log=x_log[6:]\n",
        "from statsmodels.tsa.ar_model import AR \n",
        "from sklearn.metrics import mean_squared_error\n",
        "trc=x_log[0:238]\n",
        "tec=x_log[238:]\n",
        "m=AR(trc)\n",
        "m_f=m.fit()\n",
        "prec=m_f.predict(start=228,end=237)\n",
        "import matplotlib.pyplot as plt\n",
        "plt.plot(x_log[228:],label=\"TEST\")\n",
        "plt.plot(prec,label=\"PREDICTIONS\")\n",
        "plt.legend()\n",
        "from sklearn.metrics import explained_variance_score\n",
        "acc=explained_variance_score(x_log[228:],prec)\n",
        "print(acc*100)\n",
        "l=pd.DataFrame(columns=[\"Date\",\"Original\",\"Predicted\",'Difference'])\n",
        "l[\"Date\"]=[i for i in df['x'][234:]]\n",
        "l[\"Original\"]=[math.exp(x_log[i]) for i in range(228,238)]\n",
        "l[\"Predicted\"]=[math.exp(prec[i]) for i in range(0,10)]\n",
        "l[\"Difference\"]=l[\"Predicted\"]-l[\"Original\"]\n",
        "l"
      ],
      "execution_count": null,
      "outputs": [
        {
          "output_type": "stream",
          "text": [
            "94.43143819736233\n"
          ],
          "name": "stdout"
        },
        {
          "output_type": "execute_result",
          "data": {
            "text/html": [
              "<div>\n",
              "<style scoped>\n",
              "    .dataframe tbody tr th:only-of-type {\n",
              "        vertical-align: middle;\n",
              "    }\n",
              "\n",
              "    .dataframe tbody tr th {\n",
              "        vertical-align: top;\n",
              "    }\n",
              "\n",
              "    .dataframe thead th {\n",
              "        text-align: right;\n",
              "    }\n",
              "</style>\n",
              "<table border=\"1\" class=\"dataframe\">\n",
              "  <thead>\n",
              "    <tr style=\"text-align: right;\">\n",
              "      <th></th>\n",
              "      <th>Date</th>\n",
              "      <th>Original</th>\n",
              "      <th>Predicted</th>\n",
              "      <th>Difference</th>\n",
              "    </tr>\n",
              "  </thead>\n",
              "  <tbody>\n",
              "    <tr>\n",
              "      <th>0</th>\n",
              "      <td>2020-10-18</td>\n",
              "      <td>295133.0</td>\n",
              "      <td>299299.132162</td>\n",
              "      <td>4166.132162</td>\n",
              "    </tr>\n",
              "    <tr>\n",
              "      <th>1</th>\n",
              "      <td>2020-10-19</td>\n",
              "      <td>303897.0</td>\n",
              "      <td>305290.029946</td>\n",
              "      <td>1393.029946</td>\n",
              "    </tr>\n",
              "    <tr>\n",
              "      <th>2</th>\n",
              "      <td>2020-10-20</td>\n",
              "      <td>310141.0</td>\n",
              "      <td>313725.468516</td>\n",
              "      <td>3584.468516</td>\n",
              "    </tr>\n",
              "    <tr>\n",
              "      <th>3</th>\n",
              "      <td>2020-10-21</td>\n",
              "      <td>310141.0</td>\n",
              "      <td>314618.809123</td>\n",
              "      <td>4477.809123</td>\n",
              "    </tr>\n",
              "    <tr>\n",
              "      <th>4</th>\n",
              "      <td>2020-10-22</td>\n",
              "      <td>325213.0</td>\n",
              "      <td>314898.840335</td>\n",
              "      <td>-10314.159665</td>\n",
              "    </tr>\n",
              "    <tr>\n",
              "      <th>5</th>\n",
              "      <td>2020-10-23</td>\n",
              "      <td>334229.0</td>\n",
              "      <td>337521.879082</td>\n",
              "      <td>3292.879082</td>\n",
              "    </tr>\n",
              "    <tr>\n",
              "      <th>6</th>\n",
              "      <td>2020-10-24</td>\n",
              "      <td>341860.0</td>\n",
              "      <td>338180.882878</td>\n",
              "      <td>-3679.117122</td>\n",
              "    </tr>\n",
              "    <tr>\n",
              "      <th>7</th>\n",
              "      <td>2020-10-25</td>\n",
              "      <td>346882.0</td>\n",
              "      <td>355797.182659</td>\n",
              "      <td>8915.182659</td>\n",
              "    </tr>\n",
              "    <tr>\n",
              "      <th>8</th>\n",
              "      <td>2020-10-26</td>\n",
              "      <td>353473.0</td>\n",
              "      <td>353651.342907</td>\n",
              "      <td>178.342907</td>\n",
              "    </tr>\n",
              "    <tr>\n",
              "      <th>9</th>\n",
              "      <td>2020-10-27</td>\n",
              "      <td>361842.0</td>\n",
              "      <td>358881.771416</td>\n",
              "      <td>-2960.228584</td>\n",
              "    </tr>\n",
              "  </tbody>\n",
              "</table>\n",
              "</div>"
            ],
            "text/plain": [
              "        Date  Original      Predicted    Difference\n",
              "0 2020-10-18  295133.0  299299.132162   4166.132162\n",
              "1 2020-10-19  303897.0  305290.029946   1393.029946\n",
              "2 2020-10-20  310141.0  313725.468516   3584.468516\n",
              "3 2020-10-21  310141.0  314618.809123   4477.809123\n",
              "4 2020-10-22  325213.0  314898.840335 -10314.159665\n",
              "5 2020-10-23  334229.0  337521.879082   3292.879082\n",
              "6 2020-10-24  341860.0  338180.882878  -3679.117122\n",
              "7 2020-10-25  346882.0  355797.182659   8915.182659\n",
              "8 2020-10-26  353473.0  353651.342907    178.342907\n",
              "9 2020-10-27  361842.0  358881.771416  -2960.228584"
            ]
          },
          "metadata": {
            "tags": []
          },
          "execution_count": 45
        },
        {
          "output_type": "display_data",
          "data": {
            "image/png": "[encoded data removed]",
            "text/plain": [
              "<Figure size 432x288 with 1 Axes>"
            ]
          },
          "metadata": {
            "tags": []
          }
        }
      ]
    },
    {
      "cell_type": "code",
      "metadata": {
        "colab": {
          "base_uri": "https://localhost:8080/"
        },
        "id": "XJ3KiiMecK4i",
        "outputId": "02d32ecf-9a1a-4310-fe8a-5a449159aa7e"
      },
      "source": [
        "RMS['AR(6)']=(((l['Predicted']-l['Original'])**2).mean())**0.5\n",
        "RMS"
      ],
      "execution_count": null,
      "outputs": [
        {
          "output_type": "execute_result",
          "data": {
            "text/plain": [
              "{'AR(0)': 3582.737051181442, 'AR(6)': 5207.998320497024}"
            ]
          },
          "metadata": {
            "tags": []
          },
          "execution_count": 46
        }
      ]
    },
    {
      "cell_type": "markdown",
      "metadata": {
        "id": "LqABsVhuCUqS"
      },
      "source": [
        "# ARIMA"
      ]
    },
    {
      "cell_type": "code",
      "metadata": {
        "id": "y0DZU37PCWuH"
      },
      "source": [
        "from statsmodels.tsa.arima_model import ARIMA"
      ],
      "execution_count": null,
      "outputs": []
    },
    {
      "cell_type": "code",
      "metadata": {
        "id": "hBiPfNPkCwhW"
      },
      "source": [
        "import itertools\n",
        "p=d=q=range(0,10)\n",
        "pdq = list(itertools.product(p,d,q))"
      ],
      "execution_count": null,
      "outputs": []
    },
    {
      "cell_type": "code",
      "metadata": {
        "id": "rUuQzjmKCy2b"
      },
      "source": [
        "k=pd.DataFrame()\n",
        "k['Confirmed']=s['Kerala']['Confirmed']\n",
        "k['Date']=s['Kerala']['Date']\n",
        "k=k.reset_index().set_index('Date')\n",
        "import math\n",
        "k_log=[]\n",
        "for i in k['Confirmed']:\n",
        "  k_log.append(math.log(i))"
      ],
      "execution_count": null,
      "outputs": []
    },
    {
      "cell_type": "code",
      "metadata": {
        "id": "byPsVSrPDRpi"
      },
      "source": [
        "train=k_log[250:306]\n",
        "test=k_log[306:]"
      ],
      "execution_count": null,
      "outputs": []
    },
    {
      "cell_type": "code",
      "metadata": {
        "colab": {
          "base_uri": "https://localhost:8080/"
        },
        "id": "VQlP9jq8DwAc",
        "outputId": "6fee921f-ffaa-4a48-891d-103d367cfd93"
      },
      "source": [
        "model_arima = ARIMA(train,order=(6, 1, 2))\n",
        "model_arima_fit = model_arima.fit()\n",
        "print(model_arima_fit.aic)\n",
        "predictions= model_arima_fit.forecast(steps=11)[0]\n",
        "predictions"
      ],
      "execution_count": null,
      "outputs": [
        {
          "output_type": "stream",
          "text": [
            "-537.0914004430609\n"
          ],
          "name": "stdout"
        },
        {
          "output_type": "execute_result",
          "data": {
            "text/plain": [
              "array([13.52487169, 13.53241159, 13.54017489, 13.54623098, 13.5524207 ,\n",
              "       13.55849386, 13.5637188 , 13.56957178, 13.57723632, 13.58484947,\n",
              "       13.59133902])"
            ]
          },
          "metadata": {
            "tags": []
          },
          "execution_count": 273
        }
      ]
    },
    {
      "cell_type": "code",
      "metadata": {
        "colab": {
          "base_uri": "https://localhost:8080/",
          "height": 283
        },
        "id": "xIbCirYODyet",
        "outputId": "90f06056-7c0d-43cc-bc7f-4171ac501eba"
      },
      "source": [
        "import matplotlib.pyplot as plt\n",
        "#plt.plot(test)\n",
        "#plt.plot(predictions,color='red')\n",
        "plt.plot([math.exp(i) for i in test],label=\"Test\")\n",
        "plt.plot([math.exp(i) for i in predictions],label=\"prediction\",color='red')\n",
        "plt.legend()"
      ],
      "execution_count": null,
      "outputs": [
        {
          "output_type": "execute_result",
          "data": {
            "text/plain": [
              "<matplotlib.legend.Legend at 0x7f90e82c4ef0>"
            ]
          },
          "metadata": {
            "tags": []
          },
          "execution_count": 274
        },
        {
          "output_type": "display_data",
          "data": {
            "image/png": "[encoded data removed]",
            "text/plain": [
              "<Figure size 432x288 with 1 Axes>"
            ]
          },
          "metadata": {
            "tags": [],
            "needs_background": "light"
          }
        }
      ]
    },
    {
      "cell_type": "code",
      "metadata": {
        "colab": {
          "base_uri": "https://localhost:8080/"
        },
        "id": "_6VRCKsEEGA9",
        "outputId": "59e0ec3c-f21e-46db-d2a0-d5631adeef58"
      },
      "source": [
        "print((((predictions-test)**2).mean())**0.5)"
      ],
      "execution_count": null,
      "outputs": [
        {
          "output_type": "stream",
          "text": [
            "0.18034191701858218\n"
          ],
          "name": "stdout"
        }
      ]
    },
    {
      "cell_type": "code",
      "metadata": {
        "colab": {
          "base_uri": "https://localhost:8080/",
          "height": 283
        },
        "id": "VxnH0x7rEGpK",
        "outputId": "d57e8d5d-fd1d-40e3-fda3-99450ff029d0"
      },
      "source": [
        "d_log_test=[]\n",
        "d_log_pre=[]\n",
        "for i in test:\n",
        "  d_log_test.append(math.exp(i))\n",
        "for i in predictions:\n",
        "  d_log_pre.append(math.exp(i))\n",
        "import matplotlib.pyplot as plt\n",
        "plt.plot(d_log_test)\n",
        "plt.plot(d_log_pre,color='red')\n",
        "import numpy as np\n",
        "pre=np.array(d_log_pre)\n",
        "te=np.array(d_log_test)\n",
        "print((((pre-te)**2).mean())**0.5)"
      ],
      "execution_count": null,
      "outputs": [
        {
          "output_type": "stream",
          "text": [
            "2166.5190068366865\n"
          ],
          "name": "stdout"
        },
        {
          "output_type": "display_data",
          "data": {
            "image/png": "[encoded data removed]",
            "text/plain": [
              "<Figure size 432x288 with 1 Axes>"
            ]
          },
          "metadata": {
            "tags": [],
            "needs_background": "light"
          }
        }
      ]
    },
    {
      "cell_type": "code",
      "metadata": {
        "colab": {
          "base_uri": "https://localhost:8080/",
          "height": 343
        },
        "id": "-kI5AixyESFe",
        "outputId": "a42e6dcc-d7d8-4af1-ebfe-d7d3a51a3b3d"
      },
      "source": [
        "l=pd.DataFrame()\n",
        "l['Date']=s['Kerala']['Date'][270:]\n",
        "l['Confirmed']=s['Kerala']['Confirmed'][270:]\n",
        "l['Predicted']=pre\n",
        "l['Difference']=te-pre\n",
        "l"
      ],
      "execution_count": null,
      "outputs": [
        {
          "output_type": "execute_result",
          "data": {
            "text/html": [
              "<div>\n",
              "<style scoped>\n",
              "    .dataframe tbody tr th:only-of-type {\n",
              "        vertical-align: middle;\n",
              "    }\n",
              "\n",
              "    .dataframe tbody tr th {\n",
              "        vertical-align: top;\n",
              "    }\n",
              "\n",
              "    .dataframe thead th {\n",
              "        text-align: right;\n",
              "    }\n",
              "</style>\n",
              "<table border=\"1\" class=\"dataframe\">\n",
              "  <thead>\n",
              "    <tr style=\"text-align: right;\">\n",
              "      <th></th>\n",
              "      <th>Date</th>\n",
              "      <th>Confirmed</th>\n",
              "      <th>Predicted</th>\n",
              "      <th>Difference</th>\n",
              "    </tr>\n",
              "  </thead>\n",
              "  <tbody>\n",
              "    <tr>\n",
              "      <th>8994</th>\n",
              "      <td>2020-11-23</td>\n",
              "      <td>566453</td>\n",
              "      <td>565204.949727</td>\n",
              "      <td>1248.050273</td>\n",
              "    </tr>\n",
              "    <tr>\n",
              "      <th>9030</th>\n",
              "      <td>2020-11-24</td>\n",
              "      <td>571873</td>\n",
              "      <td>567314.068872</td>\n",
              "      <td>4558.931128</td>\n",
              "    </tr>\n",
              "    <tr>\n",
              "      <th>9066</th>\n",
              "      <td>2020-11-25</td>\n",
              "      <td>578364</td>\n",
              "      <td>569018.805839</td>\n",
              "      <td>9345.194161</td>\n",
              "    </tr>\n",
              "    <tr>\n",
              "      <th>9102</th>\n",
              "      <td>2020-11-26</td>\n",
              "      <td>583742</td>\n",
              "      <td>570315.473414</td>\n",
              "      <td>13426.526586</td>\n",
              "    </tr>\n",
              "    <tr>\n",
              "      <th>9138</th>\n",
              "      <td>2020-11-27</td>\n",
              "      <td>587708</td>\n",
              "      <td>571201.262055</td>\n",
              "      <td>16506.737945</td>\n",
              "    </tr>\n",
              "    <tr>\n",
              "      <th>9174</th>\n",
              "      <td>2020-11-28</td>\n",
              "      <td>593958</td>\n",
              "      <td>571674.250034</td>\n",
              "      <td>22283.749966</td>\n",
              "    </tr>\n",
              "    <tr>\n",
              "      <th>9210</th>\n",
              "      <td>2020-11-29</td>\n",
              "      <td>599601</td>\n",
              "      <td>571733.410382</td>\n",
              "      <td>27867.589618</td>\n",
              "    </tr>\n",
              "    <tr>\n",
              "      <th>9246</th>\n",
              "      <td>2020-11-30</td>\n",
              "      <td>602983</td>\n",
              "      <td>571378.614609</td>\n",
              "      <td>31604.385391</td>\n",
              "    </tr>\n",
              "    <tr>\n",
              "      <th>9282</th>\n",
              "      <td>2020-12-01</td>\n",
              "      <td>608358</td>\n",
              "      <td>570610.633166</td>\n",
              "      <td>37747.366834</td>\n",
              "    </tr>\n",
              "    <tr>\n",
              "      <th>9318</th>\n",
              "      <td>2020-12-02</td>\n",
              "      <td>614674</td>\n",
              "      <td>569431.132657</td>\n",
              "      <td>45242.867343</td>\n",
              "    </tr>\n",
              "  </tbody>\n",
              "</table>\n",
              "</div>"
            ],
            "text/plain": [
              "           Date  Confirmed      Predicted    Difference\n",
              "8994 2020-11-23     566453  565204.949727   1248.050273\n",
              "9030 2020-11-24     571873  567314.068872   4558.931128\n",
              "9066 2020-11-25     578364  569018.805839   9345.194161\n",
              "9102 2020-11-26     583742  570315.473414  13426.526586\n",
              "9138 2020-11-27     587708  571201.262055  16506.737945\n",
              "9174 2020-11-28     593958  571674.250034  22283.749966\n",
              "9210 2020-11-29     599601  571733.410382  27867.589618\n",
              "9246 2020-11-30     602983  571378.614609  31604.385391\n",
              "9282 2020-12-01     608358  570610.633166  37747.366834\n",
              "9318 2020-12-02     614674  569431.132657  45242.867343"
            ]
          },
          "metadata": {
            "tags": []
          },
          "execution_count": 89
        }
      ]
    },
    {
      "cell_type": "code",
      "metadata": {
        "id": "QHoN-B-6Xljx"
      },
      "source": [
        ""
      ],
      "execution_count": null,
      "outputs": []
    },
    {
      "cell_type": "markdown",
      "metadata": {
        "id": "Noq9gABMRZOe"
      },
      "source": [
        "# **HES(log)**"
      ]
    },
    {
      "cell_type": "code",
      "metadata": {
        "colab": {
          "base_uri": "https://localhost:8080/",
          "height": 410
        },
        "id": "_q-duJgpEXP-",
        "outputId": "c666aaa0-980a-4cee-8194-0d80090b007c"
      },
      "source": [
        "import statsmodels.tsa.holtwinters as ets\n",
        "k=pd.DataFrame()\n",
        "k['Confirmed']=s['Kerala']['Confirmed']\n",
        "k['Date']=s['Kerala']['Date']\n",
        "k=k.reset_index().set_index('Date')\n",
        "import math\n",
        "k_log=[]\n",
        "for i in k['Confirmed']:\n",
        "  k_log.append(math.log(i))\n",
        "train=k_log[:270]\n",
        "test=k_log[270:]\n",
        "holt_model=ets.ExponentialSmoothing(train,trend='additive',damped=False,seasonal=None).fit()\n",
        "forecast=holt_model.forecast(steps=10)\n",
        "import matplotlib.pyplot as plt\n",
        "plt.figure(figsize=(30,10))\n",
        "plt.plot(train)\n",
        "plt.plot(holt_model.fittedvalues,color='red')\n",
        "plt.plot(range(270,280),test,color='blue')\n",
        "plt.plot(range(270,280),forecast,color='red')\n",
        "print((((forecast-test)**2).mean())**0.5)"
      ],
      "execution_count": null,
      "outputs": [
        {
          "output_type": "stream",
          "text": [
            "0.021495639764639283\n"
          ],
          "name": "stdout"
        },
        {
          "output_type": "display_data",
          "data": {
            "image/png": "[encoded data removed]",
            "text/plain": [
              "<Figure size 2160x720 with 1 Axes>"
            ]
          },
          "metadata": {
            "tags": []
          }
        }
      ]
    },
    {
      "cell_type": "code",
      "metadata": {
        "colab": {
          "base_uri": "https://localhost:8080/",
          "height": 282
        },
        "id": "KdLHGd4JOeU1",
        "outputId": "fc7f38b1-e9f6-42f9-d997-727b457e0d59"
      },
      "source": [
        "d_log_test=[]\n",
        "d_log_pre=[]\n",
        "for i in test:\n",
        "  d_log_test.append(math.exp(i))\n",
        "for i in forecast:\n",
        "  d_log_pre.append(math.exp(i))\n",
        "import matplotlib.pyplot as plt\n",
        "plt.plot(d_log_test,label='Test')\n",
        "plt.plot(d_log_pre,label='Prediction',color='red')\n",
        "plt.legend()\n",
        "import numpy as np\n",
        "pre=np.array(d_log_pre)\n",
        "te=np.array(d_log_test)\n",
        "print((((pre-te)**2).mean())**0.5)"
      ],
      "execution_count": null,
      "outputs": [
        {
          "output_type": "stream",
          "text": [
            "13150.00782901144\n"
          ],
          "name": "stdout"
        },
        {
          "output_type": "display_data",
          "data": {
            "image/png": "[encoded data removed]",
            "text/plain": [
              "<Figure size 432x288 with 1 Axes>"
            ]
          },
          "metadata": {
            "tags": []
          }
        }
      ]
    },
    {
      "cell_type": "code",
      "metadata": {
        "colab": {
          "base_uri": "https://localhost:8080/",
          "height": 343
        },
        "id": "OAGLQNJDOmRn",
        "outputId": "ab3acb8a-eb23-48d3-ff75-4f5b76ef2b08"
      },
      "source": [
        "l=pd.DataFrame()\n",
        "l['Date']=s['Kerala']['Date'][270:]\n",
        "l['Confirmed']=s['Kerala']['Confirmed'][270:]\n",
        "l['Predicted']=pre\n",
        "l['Difference']=pre-te\n",
        "l"
      ],
      "execution_count": null,
      "outputs": [
        {
          "output_type": "execute_result",
          "data": {
            "text/html": [
              "<div>\n",
              "<style scoped>\n",
              "    .dataframe tbody tr th:only-of-type {\n",
              "        vertical-align: middle;\n",
              "    }\n",
              "\n",
              "    .dataframe tbody tr th {\n",
              "        vertical-align: top;\n",
              "    }\n",
              "\n",
              "    .dataframe thead th {\n",
              "        text-align: right;\n",
              "    }\n",
              "</style>\n",
              "<table border=\"1\" class=\"dataframe\">\n",
              "  <thead>\n",
              "    <tr style=\"text-align: right;\">\n",
              "      <th></th>\n",
              "      <th>Date</th>\n",
              "      <th>Confirmed</th>\n",
              "      <th>Predicted</th>\n",
              "      <th>Difference</th>\n",
              "    </tr>\n",
              "  </thead>\n",
              "  <tbody>\n",
              "    <tr>\n",
              "      <th>8994</th>\n",
              "      <td>2020-11-23</td>\n",
              "      <td>566453</td>\n",
              "      <td>569644.124461</td>\n",
              "      <td>3191.124461</td>\n",
              "    </tr>\n",
              "    <tr>\n",
              "      <th>9030</th>\n",
              "      <td>2020-11-24</td>\n",
              "      <td>571873</td>\n",
              "      <td>576678.043798</td>\n",
              "      <td>4805.043798</td>\n",
              "    </tr>\n",
              "    <tr>\n",
              "      <th>9066</th>\n",
              "      <td>2020-11-25</td>\n",
              "      <td>578364</td>\n",
              "      <td>583798.817399</td>\n",
              "      <td>5434.817399</td>\n",
              "    </tr>\n",
              "    <tr>\n",
              "      <th>9102</th>\n",
              "      <td>2020-11-26</td>\n",
              "      <td>583742</td>\n",
              "      <td>591007.517733</td>\n",
              "      <td>7265.517733</td>\n",
              "    </tr>\n",
              "    <tr>\n",
              "      <th>9138</th>\n",
              "      <td>2020-11-27</td>\n",
              "      <td>587708</td>\n",
              "      <td>598305.230513</td>\n",
              "      <td>10597.230513</td>\n",
              "    </tr>\n",
              "    <tr>\n",
              "      <th>9174</th>\n",
              "      <td>2020-11-28</td>\n",
              "      <td>593958</td>\n",
              "      <td>605693.054857</td>\n",
              "      <td>11735.054857</td>\n",
              "    </tr>\n",
              "    <tr>\n",
              "      <th>9210</th>\n",
              "      <td>2020-11-29</td>\n",
              "      <td>599601</td>\n",
              "      <td>613172.103456</td>\n",
              "      <td>13571.103456</td>\n",
              "    </tr>\n",
              "    <tr>\n",
              "      <th>9246</th>\n",
              "      <td>2020-11-30</td>\n",
              "      <td>602983</td>\n",
              "      <td>620743.502739</td>\n",
              "      <td>17760.502739</td>\n",
              "    </tr>\n",
              "    <tr>\n",
              "      <th>9282</th>\n",
              "      <td>2020-12-01</td>\n",
              "      <td>608358</td>\n",
              "      <td>628408.393044</td>\n",
              "      <td>20050.393044</td>\n",
              "    </tr>\n",
              "    <tr>\n",
              "      <th>9318</th>\n",
              "      <td>2020-12-02</td>\n",
              "      <td>614674</td>\n",
              "      <td>636167.928792</td>\n",
              "      <td>21493.928792</td>\n",
              "    </tr>\n",
              "  </tbody>\n",
              "</table>\n",
              "</div>"
            ],
            "text/plain": [
              "           Date  Confirmed      Predicted    Difference\n",
              "8994 2020-11-23     566453  569644.124461   3191.124461\n",
              "9030 2020-11-24     571873  576678.043798   4805.043798\n",
              "9066 2020-11-25     578364  583798.817399   5434.817399\n",
              "9102 2020-11-26     583742  591007.517733   7265.517733\n",
              "9138 2020-11-27     587708  598305.230513  10597.230513\n",
              "9174 2020-11-28     593958  605693.054857  11735.054857\n",
              "9210 2020-11-29     599601  613172.103456  13571.103456\n",
              "9246 2020-11-30     602983  620743.502739  17760.502739\n",
              "9282 2020-12-01     608358  628408.393044  20050.393044\n",
              "9318 2020-12-02     614674  636167.928792  21493.928792"
            ]
          },
          "metadata": {
            "tags": []
          },
          "execution_count": 93
        }
      ]
    },
    {
      "cell_type": "code",
      "metadata": {
        "id": "qh_LcjJeW60l"
      },
      "source": [
        "RMS[\"ARIMA\"]='1749.7621762132437'"
      ],
      "execution_count": null,
      "outputs": []
    },
    {
      "cell_type": "code",
      "metadata": {
        "colab": {
          "base_uri": "https://localhost:8080/"
        },
        "id": "7Ubsyrf2PxUd",
        "outputId": "b1911e71-dd84-4e1a-cda7-83ba73cbad6d"
      },
      "source": [
        "RMS['HES']='7719.831012515116'\n",
        "RMS"
      ],
      "execution_count": null,
      "outputs": [
        {
          "output_type": "execute_result",
          "data": {
            "text/plain": [
              "{'AR': '3582.737051181442',\n",
              " 'ARIMA': '1749.7621762132437',\n",
              " 'HES': '7719.831012515116'}"
            ]
          },
          "metadata": {
            "tags": []
          },
          "execution_count": 80
        }
      ]
    },
    {
      "cell_type": "code",
      "metadata": {
        "id": "XPJEprrkPyHl"
      },
      "source": [
        "\n",
        "del RMS['AR(0)']"
      ],
      "execution_count": null,
      "outputs": []
    },
    {
      "cell_type": "code",
      "metadata": {
        "id": "Pn3JEIiQP4Yu"
      },
      "source": [
        "RMS['AR']='3582.737051181442'"
      ],
      "execution_count": null,
      "outputs": []
    },
    {
      "cell_type": "code",
      "metadata": {
        "colab": {
          "base_uri": "https://localhost:8080/"
        },
        "id": "kUuGgXOgVOeN",
        "outputId": "eca2be94-b1ba-4b1a-cc13-b266469fb0ef"
      },
      "source": [
        "RMS"
      ],
      "execution_count": null,
      "outputs": [
        {
          "output_type": "execute_result",
          "data": {
            "text/plain": [
              "{'AR': '3582.737051181442', 'ARIMA': '1749.7621762132437', 'HES': '7719.83'}"
            ]
          },
          "metadata": {
            "tags": []
          },
          "execution_count": 79
        }
      ]
    },
    {
      "cell_type": "code",
      "metadata": {
        "colab": {
          "base_uri": "https://localhost:8080/"
        },
        "id": "Z-9sR48VVSUQ",
        "outputId": "4bde81b3-96ec-42b1-e192-c604af40bf75"
      },
      "source": [
        "RMS.keys()"
      ],
      "execution_count": null,
      "outputs": [
        {
          "output_type": "execute_result",
          "data": {
            "text/plain": [
              "dict_keys(['ARIMA', 'HES', 'AR'])"
            ]
          },
          "metadata": {
            "tags": []
          },
          "execution_count": 95
        }
      ]
    },
    {
      "cell_type": "code",
      "metadata": {
        "id": "bN88xFQ4WwbY"
      },
      "source": [
        "kk=kk.append(RMS,ignore_index=True)"
      ],
      "execution_count": null,
      "outputs": []
    },
    {
      "cell_type": "code",
      "metadata": {
        "colab": {
          "base_uri": "https://localhost:8080/"
        },
        "id": "cn6rqGhkW-bE",
        "outputId": "2cf20d9c-8a56-4e63-b35a-55ca300b541f"
      },
      "source": [
        "kk.columns"
      ],
      "execution_count": null,
      "outputs": [
        {
          "output_type": "execute_result",
          "data": {
            "text/plain": [
              "Index(['AR', 'ARIMA', 'HES'], dtype='object')"
            ]
          },
          "metadata": {
            "tags": []
          },
          "execution_count": 91
        }
      ]
    },
    {
      "cell_type": "code",
      "metadata": {
        "colab": {
          "base_uri": "https://localhost:8080/"
        },
        "id": "ejatvxJIXIYi",
        "outputId": "0a660af9-4da7-44ac-9781-7e1f55414788"
      },
      "source": [
        "kk.values"
      ],
      "execution_count": null,
      "outputs": [
        {
          "output_type": "execute_result",
          "data": {
            "text/plain": [
              "array([['3582.737051181442', '1749.7621762132437', '7719.831012515116']],\n",
              "      dtype=object)"
            ]
          },
          "metadata": {
            "tags": []
          },
          "execution_count": 92
        }
      ]
    },
    {
      "cell_type": "code",
      "metadata": {
        "colab": {
          "base_uri": "https://localhost:8080/",
          "height": 282
        },
        "id": "RMVLthnbXaZ8",
        "outputId": "ac2fc13d-16c8-4dd0-f551-3620f2b0a633"
      },
      "source": [
        "plt.bar(RMS.values(),RMS.keys())"
      ],
      "execution_count": null,
      "outputs": [
        {
          "output_type": "execute_result",
          "data": {
            "text/plain": [
              "<BarContainer object of 3 artists>"
            ]
          },
          "metadata": {
            "tags": []
          },
          "execution_count": 97
        },
        {
          "output_type": "display_data",
          "data": {
            "image/png": "[encoded data removed]",
            "text/plain": [
              "<Figure size 432x288 with 1 Axes>"
            ]
          },
          "metadata": {
            "tags": []
          }
        }
      ]
    },
    {
      "cell_type": "code",
      "metadata": {
        "colab": {
          "base_uri": "https://localhost:8080/",
          "height": 252
        },
        "id": "cjo6Xv64XfwM",
        "outputId": "a8b79256-3b4c-45f9-c95c-eb33694b757d"
      },
      "source": [
        "fig, ax = plt.subplots()\n",
        "model= ['AR', 'ARIMA', 'HES']\n",
        "x_axis=['3582.737051181442', '1749.7621762132437', '7719.831012515116']\n",
        "ax.set_xlim(xmin=1000, xmax=10000)\n",
        "ax.barh(model,x_axis, align='center')\n",
        "plt.show()"
      ],
      "execution_count": null,
      "outputs": [
        {
          "output_type": "display_data",
          "data": {
            "image/png": "[encoded data removed]",
            "text/plain": [
              "<Figure size 432x288 with 1 Axes>"
            ]
          },
          "metadata": {
            "tags": []
          }
        }
      ]
    },
    {
      "cell_type": "code",
      "metadata": {
        "id": "fmQwIqO_Yfio"
      },
      "source": [
        ""
      ],
      "execution_count": null,
      "outputs": []
    },
    {
      "cell_type": "markdown",
      "metadata": {
        "id": "kUUGH_7VjJ1O"
      },
      "source": [
        "# Logistic"
      ]
    },
    {
      "cell_type": "code",
      "metadata": {
        "id": "usNZivDQjMlA"
      },
      "source": [
        "import numpy as np\n",
        "from sklearn.linear_model import LogisticRegression\n",
        "from sklearn.metrics import classification_report, confusion_matrix"
      ],
      "execution_count": null,
      "outputs": []
    },
    {
      "cell_type": "code",
      "metadata": {
        "colab": {
          "base_uri": "https://localhost:8080/"
        },
        "id": "aHa9jqPgjlTU",
        "outputId": "0ca6145d-287b-43b5-f948-907493f0484f"
      },
      "source": [
        "x=range(0,317)\n",
        "s['Kerala']['No']=x\n",
        "data=pd.DataFrame()\n",
        "data=s['Kerala'][['No','Confirmed']]"
      ],
      "execution_count": null,
      "outputs": [
        {
          "output_type": "stream",
          "text": [
            "/usr/local/lib/python3.6/dist-packages/ipykernel_launcher.py:2: SettingWithCopyWarning: \n",
            "A value is trying to be set on a copy of a slice from a DataFrame.\n",
            "Try using .loc[row_indexer,col_indexer] = value instead\n",
            "\n",
            "See the caveats in the documentation: https://pandas.pydata.org/pandas-docs/stable/user_guide/indexing.html#returning-a-view-versus-a-copy\n",
            "  \n"
          ],
          "name": "stderr"
        }
      ]
    },
    {
      "cell_type": "code",
      "metadata": {
        "id": "q8ASwbsCjnni"
      },
      "source": [
        "#defining logistic function\n",
        "def my_logistic(t, a, b, c):\n",
        "    return c / (1 + a * np.exp(-b*t))"
      ],
      "execution_count": null,
      "outputs": []
    },
    {
      "cell_type": "code",
      "metadata": {
        "id": "hK9jS7iz3DnL"
      },
      "source": [
        ""
      ],
      "execution_count": null,
      "outputs": []
    },
    {
      "cell_type": "code",
      "metadata": {
        "id": "sRocmf9A3Dht"
      },
      "source": [
        ""
      ],
      "execution_count": null,
      "outputs": []
    },
    {
      "cell_type": "code",
      "metadata": {
        "colab": {
          "base_uri": "https://localhost:8080/"
        },
        "id": "EiFp6DPmkE0H",
        "outputId": "2238bc95-cdad-4bfc-d32b-db9866c04ea6"
      },
      "source": [
        "#assigning initial values randomly\n",
        "p0 = np.random.exponential(size=3)\n",
        "p0"
      ],
      "execution_count": null,
      "outputs": [
        {
          "output_type": "execute_result",
          "data": {
            "text/plain": [
              "array([0.64800804, 0.2811517 , 0.38382352])"
            ]
          },
          "metadata": {
            "tags": []
          },
          "execution_count": 165
        }
      ]
    },
    {
      "cell_type": "code",
      "metadata": {
        "id": "SIqLFikIkQ9O"
      },
      "source": [
        "#defining the lower and upper limits\n",
        "bounds = (0, [1000., 3., 3480000000.])"
      ],
      "execution_count": null,
      "outputs": []
    },
    {
      "cell_type": "code",
      "metadata": {
        "colab": {
          "base_uri": "https://localhost:8080/"
        },
        "id": "9guGlr6bkaSk",
        "outputId": "07a136d8-4a37-4e1b-ac9d-8bb61514a61b"
      },
      "source": [
        "#finding out the values for a,b,c\n",
        "import scipy.optimize as optim\n",
        "x = np.array(data['No']) + 1\n",
        "y = np.array(data['Confirmed'])\n",
        "\n",
        "(a,b,c),cov = optim.curve_fit(my_logistic, x, y, bounds=bounds, p0=p0)\n",
        "a,b,c"
      ],
      "execution_count": null,
      "outputs": [
        {
          "output_type": "execute_result",
          "data": {
            "text/plain": [
              "(999.9999999999999, 0.026156641346139903, 1006438.8927539384)"
            ]
          },
          "metadata": {
            "tags": []
          },
          "execution_count": 167
        }
      ]
    },
    {
      "cell_type": "code",
      "metadata": {
        "id": "BwbyBj-Bkjkl"
      },
      "source": [
        "def my_logistic(t):\n",
        "    return c / (1 + a * np.exp(-b*t))"
      ],
      "execution_count": null,
      "outputs": []
    },
    {
      "cell_type": "code",
      "metadata": {
        "colab": {
          "base_uri": "https://localhost:8080/",
          "height": 551
        },
        "id": "iNzPiozvkpJe",
        "outputId": "903d61ba-54f5-4deb-f163-c633c3cafde2"
      },
      "source": [
        "#ploting predicted vs orginal\n",
        "import matplotlib.pyplot as plt\n",
        "plt.figure(figsize=(30,10))\n",
        "plt.scatter(x, y)\n",
        "plt.plot(x, my_logistic(x))\n",
        "plt.title('Logistic Model vs Real Observations of Kerala Coronavirus')\n",
        "plt.legend([ 'Logistic Model', 'Real data'])\n",
        "plt.xlabel('Time')\n",
        "plt.ylabel('Infections')"
      ],
      "execution_count": null,
      "outputs": [
        {
          "output_type": "execute_result",
          "data": {
            "text/plain": [
              "Text(0, 0.5, 'Infections')"
            ]
          },
          "metadata": {
            "tags": []
          },
          "execution_count": 169
        },
        {
          "output_type": "display_data",
          "data": {
            "image/png": "[encoded data removed]",
            "text/plain": [
              "<Figure size 2160x720 with 1 Axes>"
            ]
          },
          "metadata": {
            "tags": [],
            "needs_background": "light"
          }
        }
      ]
    },
    {
      "cell_type": "code",
      "metadata": {
        "id": "_qI_S2NHktpe"
      },
      "source": [
        "#defing dates for future prediction\n",
        "z=pd.DataFrame()\n",
        "z['No']=range(0,500)\n",
        "zz=np.array(z['No'])"
      ],
      "execution_count": null,
      "outputs": []
    },
    {
      "cell_type": "code",
      "metadata": {
        "colab": {
          "base_uri": "https://localhost:8080/",
          "height": 558
        },
        "id": "29X2qAkZk3lS",
        "outputId": "e90ac1f4-322c-4492-cff0-a1baa323ab6c"
      },
      "source": [
        "#predicting future data\n",
        "plt.figure(figsize=(30,10))\n",
        "plt.scatter(x, y)\n",
        "plt.plot(zz, my_logistic(zz))\n",
        "plt.title('Logistic Model vs Real Observations of Kerala Coronavirus')\n",
        "plt.legend([ 'Logistic Model', 'Real data'])\n",
        "plt.xlabel('Time')\n",
        "plt.ylabel('Infections')"
      ],
      "execution_count": null,
      "outputs": [
        {
          "output_type": "execute_result",
          "data": {
            "text/plain": [
              "Text(0, 0.5, 'Infections')"
            ]
          },
          "metadata": {
            "tags": []
          },
          "execution_count": 171
        },
        {
          "output_type": "display_data",
          "data": {
            "image/png": "[encoded data removed]",
            "text/plain": [
              "<Figure size 2160x720 with 1 Axes>"
            ]
          },
          "metadata": {
            "tags": [],
            "needs_background": "light"
          }
        }
      ]
    },
    {
      "cell_type": "code",
      "metadata": {
        "colab": {
          "base_uri": "https://localhost:8080/"
        },
        "id": "f9aKT7Nnk9iT",
        "outputId": "b83ff007-8441-4db0-c25a-16bffa6ba0a4"
      },
      "source": [
        "#max value of confirmed cases\n",
        "result=pd.DataFrame(my_logistic(zz))\n",
        "result.max()"
      ],
      "execution_count": null,
      "outputs": [
        {
          "output_type": "execute_result",
          "data": {
            "text/plain": [
              "0    1.004284e+06\n",
              "dtype: float64"
            ]
          },
          "metadata": {
            "tags": []
          },
          "execution_count": 172
        }
      ]
    },
    {
      "cell_type": "code",
      "metadata": {
        "colab": {
          "base_uri": "https://localhost:8080/"
        },
        "id": "LNp4CFMAM6eL",
        "outputId": "0e26189a-635c-454f-9d98-410c01142d54"
      },
      "source": [
        "print((((my_logistic(x)-y)**2).mean())**0.5)"
      ],
      "execution_count": null,
      "outputs": [
        {
          "output_type": "stream",
          "text": [
            "24144.020459540803\n"
          ],
          "name": "stdout"
        }
      ]
    },
    {
      "cell_type": "markdown",
      "metadata": {
        "id": "hYeSCpApjHVe"
      },
      "source": [
        "# ***FBPROPHET***"
      ]
    },
    {
      "cell_type": "code",
      "metadata": {
        "id": "O6OArNoPjtcP"
      },
      "source": [
        "from fbprophet import Prophet"
      ],
      "execution_count": null,
      "outputs": []
    },
    {
      "cell_type": "code",
      "metadata": {
        "id": "pmb2FWD4jMq4",
        "colab": {
          "base_uri": "https://localhost:8080/",
          "height": 478
        },
        "outputId": "2d3bc08d-42d7-4ed7-9e4f-e78d1a072a91"
      },
      "source": [
        "confirmed=s[\"Kerala\"].groupby(\"Date\").sum()[\"Confirmed\"].reset_index()\n",
        "recovered=s[\"Kerala\"].groupby(\"Date\").sum()[\"Recovered\"].reset_index()\n",
        "deceased=s[\"Kerala\"].groupby(\"Date\").sum()[\"Deceased\"].reset_index()\n",
        "\n",
        "confirmed.columns=[\"ds\",\"y\"]\n",
        "recovered.columns=[\"ds\",\"y\"]\n",
        "deceased.columns=[\"ds\",\"y\"]\n",
        "\n",
        "confirmed['cap']=1006438\n",
        "m=Prophet(growth='logistic')\n",
        "m.fit(confirmed)\n",
        "f=m.make_future_dataframe(periods=150)\n",
        "f['cap']=1006438\n",
        "f=m.predict(f)\n",
        "f[['ds','yhat']].iloc[-50:].max()\n",
        "\n",
        "m.plot(f);"
      ],
      "execution_count": null,
      "outputs": [
        {
          "output_type": "stream",
          "text": [
            "INFO:fbprophet:Disabling yearly seasonality. Run prophet with yearly_seasonality=True to override this.\n",
            "INFO:fbprophet:Disabling daily seasonality. Run prophet with daily_seasonality=True to override this.\n"
          ],
          "name": "stderr"
        },
        {
          "output_type": "display_data",
          "data": {
            "image/png": "[encoded data removed]",
            "text/plain": [
              "<Figure size 720x432 with 1 Axes>"
            ]
          },
          "metadata": {
            "tags": []
          }
        }
      ]
    },
    {
      "cell_type": "code",
      "metadata": {
        "id": "hhdoseTXLqs4",
        "colab": {
          "base_uri": "https://localhost:8080/"
        },
        "outputId": "f8db8de5-6bc5-4c6a-9bfa-0816c573372f"
      },
      "source": [
        "f=m.predict(f)\n",
        "f[['ds','yhat']].iloc[-150:].max()\n"
      ],
      "execution_count": null,
      "outputs": [
        {
          "output_type": "execute_result",
          "data": {
            "text/plain": [
              "ds      2021-06-07 00:00:00\n",
              "yhat                 997457\n",
              "dtype: object"
            ]
          },
          "metadata": {
            "tags": []
          },
          "execution_count": 177
        }
      ]
    },
    {
      "cell_type": "code",
      "metadata": {
        "id": "w3FBUfaSKG7Z",
        "colab": {
          "base_uri": "https://localhost:8080/"
        },
        "outputId": "8849ab02-28af-422b-b01b-b28f1ad8a364"
      },
      "source": [
        "x=s['Kerala']['Confirmed'].reset_index()\n",
        "y=f['yhat'].iloc[:]\n",
        "y"
      ],
      "execution_count": null,
      "outputs": [
        {
          "output_type": "execute_result",
          "data": {
            "text/plain": [
              "0         -97.746709\n",
              "1         424.605603\n",
              "2        -414.185116\n",
              "3         258.289351\n",
              "4        -356.126144\n",
              "           ...      \n",
              "462    996285.633976\n",
              "463    996843.372561\n",
              "464    997187.656277\n",
              "465    997456.623896\n",
              "466    996824.494079\n",
              "Name: yhat, Length: 467, dtype: float64"
            ]
          },
          "metadata": {
            "tags": []
          },
          "execution_count": 178
        }
      ]
    },
    {
      "cell_type": "code",
      "metadata": {
        "colab": {
          "base_uri": "https://localhost:8080/"
        },
        "id": "6tNCh7lchm_Z",
        "outputId": "e1f4fdfb-8e55-4fbc-8b9d-4b8329f19345"
      },
      "source": [
        "y=f['yhat'].iloc[:317]\n",
        "y"
      ],
      "execution_count": null,
      "outputs": [
        {
          "output_type": "execute_result",
          "data": {
            "text/plain": [
              "0         -97.746709\n",
              "1         424.605603\n",
              "2        -414.185116\n",
              "3         258.289351\n",
              "4        -356.126144\n",
              "           ...      \n",
              "312    773950.391514\n",
              "313    778014.556492\n",
              "314    782403.076143\n",
              "315    786167.490769\n",
              "316    790369.576400\n",
              "Name: yhat, Length: 317, dtype: float64"
            ]
          },
          "metadata": {
            "tags": []
          },
          "execution_count": 182
        }
      ]
    },
    {
      "cell_type": "code",
      "metadata": {
        "id": "CyBo9Lt4gXn3",
        "colab": {
          "base_uri": "https://localhost:8080/"
        },
        "outputId": "933529a5-df0b-4f66-8e4f-956e03bbac0c"
      },
      "source": [
        "x['Confirmed'].iloc[-10:]-y.iloc[-10:]"
      ],
      "execution_count": null,
      "outputs": [
        {
          "output_type": "execute_result",
          "data": {
            "text/plain": [
              "307     2105.617805\n",
              "308     3212.911699\n",
              "309     3657.493911\n",
              "310     4696.374589\n",
              "311     5126.725922\n",
              "312     4923.608486\n",
              "313     6474.443508\n",
              "314     8479.923857\n",
              "315     9766.509231\n",
              "316    10706.423600\n",
              "dtype: float64"
            ]
          },
          "metadata": {
            "tags": []
          },
          "execution_count": 183
        }
      ]
    },
    {
      "cell_type": "code",
      "metadata": {
        "id": "z7oPfJOBhRNi",
        "colab": {
          "base_uri": "https://localhost:8080/"
        },
        "outputId": "a48955e1-629e-4f46-f1d2-01f2711f8885"
      },
      "source": [
        "print((((x['Confirmed'].iloc[-10:]-y.iloc[-10:])**2).mean())**0.5)"
      ],
      "execution_count": null,
      "outputs": [
        {
          "output_type": "stream",
          "text": [
            "6515.785442558983\n"
          ],
          "name": "stdout"
        }
      ]
    },
    {
      "cell_type": "code",
      "metadata": {
        "id": "KlGfzOirjUjz"
      },
      "source": [
        ""
      ],
      "execution_count": null,
      "outputs": []
    }
  ]
}